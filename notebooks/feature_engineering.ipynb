{
  "nbformat": 4,
  "nbformat_minor": 0,
  "metadata": {
    "colab": {
      "name": "EDA&FeatureEngineering.ipynb",
      "provenance": [],
      "collapsed_sections": [
        "DCPQ_TvTDT-B",
        "59fK_7ryzEcj",
        "yax6E8dzmyAq",
        "djfXFb7FpCEb",
        "MAzSgNdOp4xU",
        "OqiHx2mlL9lj",
        "ManOLemsN_D_"
      ]
    },
    "kernelspec": {
      "name": "python385jvsc74a57bd0cc5f70855ac006f3de45a3cc3b9e7d8d53845e50458809cb162b0174266dec97",
      "display_name": "Python 3.8.5 64-bit ('base': conda)"
    },
    "language_info": {
      "name": "python",
      "version": "3.8.5"
    }
  },
  "cells": [
    {
      "cell_type": "markdown",
      "metadata": {
        "id": "DCPQ_TvTDT-B"
      },
      "source": [
        "### Import libraries\n",
        "\n",
        "\n",
        "\n"
      ]
    },
    {
      "cell_type": "code",
      "metadata": {
        "id": "ZSI-6h42WCg9",
        "colab": {
          "base_uri": "https://localhost:8080/"
        },
        "outputId": "82b92181-0d3a-49f9-b9b1-055e615a6b53"
      },
      "source": [
        "import numpy as np # linear algebra\n",
        "import pandas as pd # data processing, CSV file I/O (e.g. pd.read_csv)\n",
        "import os\n",
        "# import libraries for plotting\n",
        "import matplotlib.pyplot as plt\n",
        "import seaborn as sns\n",
        "import category_encoders as ce\n",
        "%matplotlib inline\n",
        "\n"
      ],
      "execution_count": 2,
      "outputs": []
    },
    {
      "cell_type": "markdown",
      "metadata": {
        "id": "59fK_7ryzEcj"
      },
      "source": [
        "### Import dataset "
      ]
    },
    {
      "cell_type": "code",
      "metadata": {
        "id": "dO39LxwOWChN"
      },
      "source": [
        "data = '../data/weatherAUS.csv'\n",
        "df = pd.read_csv(data)"
      ],
      "execution_count": 3,
      "outputs": []
    },
    {
      "cell_type": "code",
      "metadata": {
        "id": "ibz48XLyWChO"
      },
      "source": [
        "df.dropna(subset=['RainTomorrow'], inplace=True)"
      ],
      "execution_count": 4,
      "outputs": []
    },
    {
      "cell_type": "markdown",
      "metadata": {
        "id": "ManOLemsN_D_"
      },
      "source": [
        "### Feature Engineering"
      ]
    },
    {
      "cell_type": "markdown",
      "metadata": {
        "id": "3NvonWAxiB7a"
      },
      "source": [
        "#### Extract month, day and year from Date variable"
      ]
    },
    {
      "cell_type": "code",
      "metadata": {
        "id": "Gudco6GIWChS"
      },
      "source": [
        "df['Date'] = pd.to_datetime(df['Date'])\n",
        "\n",
        "df['Year'] = df['Date'].dt.year\n",
        "\n",
        "# extract month from date\n",
        "\n",
        "df['Month'] = df['Date'].dt.month\n",
        "\n",
        "# extract day from date\n",
        "\n",
        "df['Day'] = df['Date'].dt.day"
      ],
      "execution_count": 5,
      "outputs": []
    },
    {
      "cell_type": "code",
      "metadata": {
        "id": "jpARjQpSWChT"
      },
      "source": [
        "# drop the original Date variable\n",
        "\n",
        "df.drop('Date', axis=1, inplace = True)"
      ],
      "execution_count": 6,
      "outputs": []
    },
    {
      "cell_type": "code",
      "metadata": {
        "id": "vjOKBypBWChT",
        "colab": {
          "base_uri": "https://localhost:8080/"
        },
        "outputId": "900ee3de-cb34-42ca-9fde-c68b19e768b4"
      },
      "source": [
        "df.head()"
      ],
      "execution_count": 7,
      "outputs": [
        {
          "output_type": "execute_result",
          "data": {
            "text/plain": [
              "  Location  MinTemp  MaxTemp  Rainfall  Evaporation  Sunshine WindGustDir  \\\n",
              "0   Albury     13.4     22.9       0.6          NaN       NaN           W   \n",
              "1   Albury      7.4     25.1       0.0          NaN       NaN         WNW   \n",
              "2   Albury     12.9     25.7       0.0          NaN       NaN         WSW   \n",
              "3   Albury      9.2     28.0       0.0          NaN       NaN          NE   \n",
              "4   Albury     17.5     32.3       1.0          NaN       NaN           W   \n",
              "\n",
              "   WindGustSpeed WindDir9am WindDir3pm  ...  Pressure3pm  Cloud9am  Cloud3pm  \\\n",
              "0           44.0          W        WNW  ...       1007.1       8.0       NaN   \n",
              "1           44.0        NNW        WSW  ...       1007.8       NaN       NaN   \n",
              "2           46.0          W        WSW  ...       1008.7       NaN       2.0   \n",
              "3           24.0         SE          E  ...       1012.8       NaN       NaN   \n",
              "4           41.0        ENE         NW  ...       1006.0       7.0       8.0   \n",
              "\n",
              "   Temp9am  Temp3pm  RainToday  RainTomorrow  Year  Month  Day  \n",
              "0     16.9     21.8         No            No  2008     12    1  \n",
              "1     17.2     24.3         No            No  2008     12    2  \n",
              "2     21.0     23.2         No            No  2008     12    3  \n",
              "3     18.1     26.5         No            No  2008     12    4  \n",
              "4     17.8     29.7         No            No  2008     12    5  \n",
              "\n",
              "[5 rows x 25 columns]"
            ],
            "text/html": "<div>\n<style scoped>\n    .dataframe tbody tr th:only-of-type {\n        vertical-align: middle;\n    }\n\n    .dataframe tbody tr th {\n        vertical-align: top;\n    }\n\n    .dataframe thead th {\n        text-align: right;\n    }\n</style>\n<table border=\"1\" class=\"dataframe\">\n  <thead>\n    <tr style=\"text-align: right;\">\n      <th></th>\n      <th>Location</th>\n      <th>MinTemp</th>\n      <th>MaxTemp</th>\n      <th>Rainfall</th>\n      <th>Evaporation</th>\n      <th>Sunshine</th>\n      <th>WindGustDir</th>\n      <th>WindGustSpeed</th>\n      <th>WindDir9am</th>\n      <th>WindDir3pm</th>\n      <th>...</th>\n      <th>Pressure3pm</th>\n      <th>Cloud9am</th>\n      <th>Cloud3pm</th>\n      <th>Temp9am</th>\n      <th>Temp3pm</th>\n      <th>RainToday</th>\n      <th>RainTomorrow</th>\n      <th>Year</th>\n      <th>Month</th>\n      <th>Day</th>\n    </tr>\n  </thead>\n  <tbody>\n    <tr>\n      <th>0</th>\n      <td>Albury</td>\n      <td>13.4</td>\n      <td>22.9</td>\n      <td>0.6</td>\n      <td>NaN</td>\n      <td>NaN</td>\n      <td>W</td>\n      <td>44.0</td>\n      <td>W</td>\n      <td>WNW</td>\n      <td>...</td>\n      <td>1007.1</td>\n      <td>8.0</td>\n      <td>NaN</td>\n      <td>16.9</td>\n      <td>21.8</td>\n      <td>No</td>\n      <td>No</td>\n      <td>2008</td>\n      <td>12</td>\n      <td>1</td>\n    </tr>\n    <tr>\n      <th>1</th>\n      <td>Albury</td>\n      <td>7.4</td>\n      <td>25.1</td>\n      <td>0.0</td>\n      <td>NaN</td>\n      <td>NaN</td>\n      <td>WNW</td>\n      <td>44.0</td>\n      <td>NNW</td>\n      <td>WSW</td>\n      <td>...</td>\n      <td>1007.8</td>\n      <td>NaN</td>\n      <td>NaN</td>\n      <td>17.2</td>\n      <td>24.3</td>\n      <td>No</td>\n      <td>No</td>\n      <td>2008</td>\n      <td>12</td>\n      <td>2</td>\n    </tr>\n    <tr>\n      <th>2</th>\n      <td>Albury</td>\n      <td>12.9</td>\n      <td>25.7</td>\n      <td>0.0</td>\n      <td>NaN</td>\n      <td>NaN</td>\n      <td>WSW</td>\n      <td>46.0</td>\n      <td>W</td>\n      <td>WSW</td>\n      <td>...</td>\n      <td>1008.7</td>\n      <td>NaN</td>\n      <td>2.0</td>\n      <td>21.0</td>\n      <td>23.2</td>\n      <td>No</td>\n      <td>No</td>\n      <td>2008</td>\n      <td>12</td>\n      <td>3</td>\n    </tr>\n    <tr>\n      <th>3</th>\n      <td>Albury</td>\n      <td>9.2</td>\n      <td>28.0</td>\n      <td>0.0</td>\n      <td>NaN</td>\n      <td>NaN</td>\n      <td>NE</td>\n      <td>24.0</td>\n      <td>SE</td>\n      <td>E</td>\n      <td>...</td>\n      <td>1012.8</td>\n      <td>NaN</td>\n      <td>NaN</td>\n      <td>18.1</td>\n      <td>26.5</td>\n      <td>No</td>\n      <td>No</td>\n      <td>2008</td>\n      <td>12</td>\n      <td>4</td>\n    </tr>\n    <tr>\n      <th>4</th>\n      <td>Albury</td>\n      <td>17.5</td>\n      <td>32.3</td>\n      <td>1.0</td>\n      <td>NaN</td>\n      <td>NaN</td>\n      <td>W</td>\n      <td>41.0</td>\n      <td>ENE</td>\n      <td>NW</td>\n      <td>...</td>\n      <td>1006.0</td>\n      <td>7.0</td>\n      <td>8.0</td>\n      <td>17.8</td>\n      <td>29.7</td>\n      <td>No</td>\n      <td>No</td>\n      <td>2008</td>\n      <td>12</td>\n      <td>5</td>\n    </tr>\n  </tbody>\n</table>\n<p>5 rows × 25 columns</p>\n</div>"
          },
          "metadata": {},
          "execution_count": 7
        }
      ]
    },
    {
      "cell_type": "markdown",
      "metadata": {
        "id": "m0VjRS2XiKnx"
      },
      "source": [
        "#### Detect outliers range for numerical variable"
      ]
    },
    {
      "cell_type": "code",
      "metadata": {
        "colab": {
          "base_uri": "https://localhost:8080/"
        },
        "id": "rqupdMopWChU",
        "outputId": "fe42c5fd-406d-4a3d-87aa-fed0f9a6828c"
      },
      "source": [
        "# find outliers for Rainfall variable\n",
        "\n",
        "IQR = df.Rainfall.quantile(0.75) - df.Rainfall.quantile(0.25)\n",
        "Lower_fence = df.Rainfall.quantile(0.25) - (IQR * 3)\n",
        "Upper_fence = df.Rainfall.quantile(0.75) + (IQR * 3)\n",
        "print('Rainfall outliers are values < {lowerboundary} or > {upperboundary}'.format(lowerboundary=Lower_fence, upperboundary=Upper_fence))"
      ],
      "execution_count": 8,
      "outputs": [
        {
          "output_type": "stream",
          "name": "stdout",
          "text": [
            "Rainfall outliers are values < -2.4000000000000004 or > 3.2\n"
          ]
        }
      ]
    },
    {
      "cell_type": "code",
      "metadata": {
        "colab": {
          "base_uri": "https://localhost:8080/"
        },
        "id": "r77dHzYZWChU",
        "outputId": "d4f73771-bf99-47d0-e412-b7bc206c46ec"
      },
      "source": [
        "# find outliers for Evaporation variable\n",
        "\n",
        "IQR = df.Evaporation.quantile(0.75) - df.Evaporation.quantile(0.25)\n",
        "Lower_fence = df.Evaporation.quantile(0.25) - (IQR * 3)\n",
        "Upper_fence = df.Evaporation.quantile(0.75) + (IQR * 3)\n",
        "print('Evaporation outliers are values < {lowerboundary} or > {upperboundary}'.format(lowerboundary=Lower_fence, upperboundary=Upper_fence))"
      ],
      "execution_count": 9,
      "outputs": [
        {
          "output_type": "stream",
          "name": "stdout",
          "text": [
            "Evaporation outliers are values < -11.800000000000002 or > 21.800000000000004\n"
          ]
        }
      ]
    },
    {
      "cell_type": "code",
      "metadata": {
        "colab": {
          "base_uri": "https://localhost:8080/"
        },
        "id": "hZJsAX9UWChV",
        "outputId": "e39659a9-973f-44f7-88e4-085ddd6e1f8b"
      },
      "source": [
        "# find outliers for WindSpeed9am variable\n",
        "\n",
        "IQR = df.WindSpeed9am.quantile(0.75) - df.WindSpeed9am.quantile(0.25)\n",
        "Lower_fence = df.WindSpeed9am.quantile(0.25) - (IQR * 3)\n",
        "Upper_fence = df.WindSpeed9am.quantile(0.75) + (IQR * 3)\n",
        "print('WindSpeed9am outliers are values < {lowerboundary} or > {upperboundary}'.format(lowerboundary=Lower_fence, upperboundary=Upper_fence))\n",
        "\n",
        "# find outliers for WindSpeed3pm variable\n",
        "\n",
        "IQR = df.WindSpeed3pm.quantile(0.75) - df.WindSpeed3pm.quantile(0.25)\n",
        "Lower_fence = df.WindSpeed3pm.quantile(0.25) - (IQR * 3)\n",
        "Upper_fence = df.WindSpeed3pm.quantile(0.75) + (IQR * 3)\n",
        "print('WindSpeed3pm outliers are values < {lowerboundary} or > {upperboundary}'.format(lowerboundary=Lower_fence, upperboundary=Upper_fence))\n"
      ],
      "execution_count": 10,
      "outputs": [
        {
          "output_type": "stream",
          "name": "stdout",
          "text": [
            "WindSpeed9am outliers are values < -29.0 or > 55.0\nWindSpeed3pm outliers are values < -20.0 or > 57.0\n"
          ]
        }
      ]
    },
    {
      "cell_type": "markdown",
      "metadata": {
        "id": "0HXqwUg5iX8o"
      },
      "source": [
        "#### Declare feature vector and target variable and split data into train and test set"
      ]
    },
    {
      "cell_type": "code",
      "metadata": {
        "id": "TdWyZmxuWChV"
      },
      "source": [
        "X = df.drop(['RainTomorrow'], axis=1)\n",
        "\n",
        "y = df['RainTomorrow']"
      ],
      "execution_count": 11,
      "outputs": []
    },
    {
      "cell_type": "code",
      "metadata": {
        "id": "jyx4jclLyFdV"
      },
      "source": [
        "from sklearn.model_selection import train_test_split\n",
        "X_train, X_test, y_train, y_test = train_test_split(X, y, test_size = 0.2, random_state = 0)"
      ],
      "execution_count": 12,
      "outputs": []
    },
    {
      "cell_type": "code",
      "metadata": {
        "colab": {
          "base_uri": "https://localhost:8080/"
        },
        "id": "n4ssrv84cpEL",
        "outputId": "cc3f256f-321d-4481-dd1d-c4b749a68f4a"
      },
      "source": [
        "# check the shape of X_train and X_test\n",
        "\n",
        "X_train.shape, X_test.shape"
      ],
      "execution_count": 13,
      "outputs": [
        {
          "output_type": "execute_result",
          "data": {
            "text/plain": [
              "((113754, 24), (28439, 24))"
            ]
          },
          "metadata": {},
          "execution_count": 13
        }
      ]
    },
    {
      "cell_type": "code",
      "metadata": {
        "id": "OB--8bdnWChW",
        "colab": {
          "base_uri": "https://localhost:8080/"
        },
        "outputId": "619b2e77-9bef-4c8d-b5db-bfe294ca970a"
      },
      "source": [
        "y.value_counts(normalize=True)"
      ],
      "execution_count": 14,
      "outputs": [
        {
          "output_type": "execute_result",
          "data": {
            "text/plain": [
              "No     0.775819\n",
              "Yes    0.224181\n",
              "Name: RainTomorrow, dtype: float64"
            ]
          },
          "metadata": {},
          "execution_count": 14
        }
      ]
    },
    {
      "cell_type": "markdown",
      "metadata": {
        "id": "jnKxXOwGiuDb"
      },
      "source": [
        "#### Get categorical and numerical columns"
      ]
    },
    {
      "cell_type": "code",
      "metadata": {
        "id": "3qsMQr_BGaIn"
      },
      "source": [
        "categorical = [col for col in X.columns if X[col].dtypes == 'O']"
      ],
      "execution_count": 15,
      "outputs": []
    },
    {
      "cell_type": "code",
      "metadata": {
        "colab": {
          "base_uri": "https://localhost:8080/"
        },
        "id": "aDOKpeK8cvwC",
        "outputId": "0e355672-fe4f-4e8e-bbcf-00a8a68da16a"
      },
      "source": [
        "categorical"
      ],
      "execution_count": 16,
      "outputs": [
        {
          "output_type": "execute_result",
          "data": {
            "text/plain": [
              "['Location', 'WindGustDir', 'WindDir9am', 'WindDir3pm', 'RainToday']"
            ]
          },
          "metadata": {},
          "execution_count": 16
        }
      ]
    },
    {
      "cell_type": "code",
      "metadata": {
        "id": "bn5Ng0pJGh0H"
      },
      "source": [
        "numerical = [col for col in X.columns if X[col].dtypes != 'O']\n"
      ],
      "execution_count": 17,
      "outputs": []
    },
    {
      "cell_type": "code",
      "metadata": {
        "colab": {
          "base_uri": "https://localhost:8080/"
        },
        "id": "waUnueS-cxR8",
        "outputId": "a7fdf6fb-03ef-49b5-8e0e-f9205fece1a8"
      },
      "source": [
        "numerical"
      ],
      "execution_count": 18,
      "outputs": [
        {
          "output_type": "execute_result",
          "data": {
            "text/plain": [
              "['MinTemp',\n",
              " 'MaxTemp',\n",
              " 'Rainfall',\n",
              " 'Evaporation',\n",
              " 'Sunshine',\n",
              " 'WindGustSpeed',\n",
              " 'WindSpeed9am',\n",
              " 'WindSpeed3pm',\n",
              " 'Humidity9am',\n",
              " 'Humidity3pm',\n",
              " 'Pressure9am',\n",
              " 'Pressure3pm',\n",
              " 'Cloud9am',\n",
              " 'Cloud3pm',\n",
              " 'Temp9am',\n",
              " 'Temp3pm',\n",
              " 'Year',\n",
              " 'Month',\n",
              " 'Day']"
            ]
          },
          "metadata": {},
          "execution_count": 18
        }
      ]
    },
    {
      "cell_type": "markdown",
      "metadata": {
        "id": "TgWwXUqxc9Fj"
      },
      "source": [
        "#### Engineering missing values in numerical variables"
      ]
    },
    {
      "cell_type": "code",
      "metadata": {
        "colab": {
          "base_uri": "https://localhost:8080/"
        },
        "id": "CEJU9bW7dDmb",
        "outputId": "2638bb41-10ae-42b5-e4cb-d14568df3b97"
      },
      "source": [
        "# check missing values in numerical variables in X_train\n",
        "\n",
        "X_train[numerical].isnull().sum()"
      ],
      "execution_count": 19,
      "outputs": [
        {
          "output_type": "execute_result",
          "data": {
            "text/plain": [
              "MinTemp            495\n",
              "MaxTemp            264\n",
              "Rainfall          1139\n",
              "Evaporation      48718\n",
              "Sunshine         54314\n",
              "WindGustSpeed     7367\n",
              "WindSpeed9am      1086\n",
              "WindSpeed3pm      2094\n",
              "Humidity9am       1449\n",
              "Humidity3pm       2890\n",
              "Pressure9am      11212\n",
              "Pressure3pm      11186\n",
              "Cloud9am         43137\n",
              "Cloud3pm         45768\n",
              "Temp9am            740\n",
              "Temp3pm           2171\n",
              "Year                 0\n",
              "Month                0\n",
              "Day                  0\n",
              "dtype: int64"
            ]
          },
          "metadata": {},
          "execution_count": 19
        }
      ]
    },
    {
      "cell_type": "code",
      "metadata": {
        "colab": {
          "base_uri": "https://localhost:8080/"
        },
        "id": "20VigKUxdHkb",
        "outputId": "f50913ca-61ca-46fd-b0e7-89979629df76"
      },
      "source": [
        "# check missing values in numerical variables in X_test\n",
        "\n",
        "X_test[numerical].isnull().sum()"
      ],
      "execution_count": null,
      "outputs": [
        {
          "output_type": "execute_result",
          "data": {
            "text/plain": [
              "MinTemp            142\n",
              "MaxTemp             58\n",
              "Rainfall           267\n",
              "Evaporation      12125\n",
              "Sunshine         13502\n",
              "WindGustSpeed     1903\n",
              "WindSpeed9am       262\n",
              "WindSpeed3pm       536\n",
              "Humidity9am        325\n",
              "Humidity3pm        720\n",
              "Pressure9am       2802\n",
              "Pressure3pm       2795\n",
              "Cloud9am         10520\n",
              "Cloud3pm         11326\n",
              "Temp9am            164\n",
              "Temp3pm            555\n",
              "Year                 0\n",
              "Month                0\n",
              "Day                  0\n",
              "dtype: int64"
            ]
          },
          "metadata": {
            "tags": []
          },
          "execution_count": 18
        }
      ]
    },
    {
      "cell_type": "code",
      "metadata": {
        "colab": {
          "base_uri": "https://localhost:8080/"
        },
        "id": "3G9jvq8Xdbbz",
        "outputId": "2a3ba78f-4de1-49c9-f37a-efd2155b4cf7"
      },
      "source": [
        "# impute missing values in X_train and X_test with respective column median in X_train\n",
        "\n",
        "for df1 in [X_train, X_test]:\n",
        "    for col in numerical:\n",
        "        col_median=X_train[col].median()\n",
        "        df1[col].fillna(col_median, inplace=True)  "
      ],
      "execution_count": 20,
      "outputs": [
        {
          "output_type": "stream",
          "name": "stderr",
          "text": [
            "D:\\anaconda\\lib\\site-packages\\pandas\\core\\series.py:4517: SettingWithCopyWarning: \nA value is trying to be set on a copy of a slice from a DataFrame\n\nSee the caveats in the documentation: https://pandas.pydata.org/pandas-docs/stable/user_guide/indexing.html#returning-a-view-versus-a-copy\n  return super().fillna(\n"
          ]
        }
      ]
    },
    {
      "cell_type": "code",
      "metadata": {
        "colab": {
          "base_uri": "https://localhost:8080/"
        },
        "id": "4KcNa3E5dqVC",
        "outputId": "9e13149c-e05d-4ec3-8696-7f769222fbba"
      },
      "source": [
        "# check again missing values in numerical variables in X_train\n",
        "\n",
        "X_train[numerical].isnull().sum()\n"
      ],
      "execution_count": 21,
      "outputs": [
        {
          "output_type": "execute_result",
          "data": {
            "text/plain": [
              "MinTemp          0\n",
              "MaxTemp          0\n",
              "Rainfall         0\n",
              "Evaporation      0\n",
              "Sunshine         0\n",
              "WindGustSpeed    0\n",
              "WindSpeed9am     0\n",
              "WindSpeed3pm     0\n",
              "Humidity9am      0\n",
              "Humidity3pm      0\n",
              "Pressure9am      0\n",
              "Pressure3pm      0\n",
              "Cloud9am         0\n",
              "Cloud3pm         0\n",
              "Temp9am          0\n",
              "Temp3pm          0\n",
              "Year             0\n",
              "Month            0\n",
              "Day              0\n",
              "dtype: int64"
            ]
          },
          "metadata": {},
          "execution_count": 21
        }
      ]
    },
    {
      "cell_type": "code",
      "metadata": {
        "colab": {
          "base_uri": "https://localhost:8080/"
        },
        "id": "PQKPB3NDdtzm",
        "outputId": "478a4d23-0aa4-4dc1-9a36-a60fcc588da1"
      },
      "source": [
        "# check missing values in numerical variables in X_test\n",
        "\n",
        "X_test[numerical].isnull().sum()"
      ],
      "execution_count": 22,
      "outputs": [
        {
          "output_type": "execute_result",
          "data": {
            "text/plain": [
              "MinTemp          0\n",
              "MaxTemp          0\n",
              "Rainfall         0\n",
              "Evaporation      0\n",
              "Sunshine         0\n",
              "WindGustSpeed    0\n",
              "WindSpeed9am     0\n",
              "WindSpeed3pm     0\n",
              "Humidity9am      0\n",
              "Humidity3pm      0\n",
              "Pressure9am      0\n",
              "Pressure3pm      0\n",
              "Cloud9am         0\n",
              "Cloud3pm         0\n",
              "Temp9am          0\n",
              "Temp3pm          0\n",
              "Year             0\n",
              "Month            0\n",
              "Day              0\n",
              "dtype: int64"
            ]
          },
          "metadata": {},
          "execution_count": 22
        }
      ]
    },
    {
      "cell_type": "markdown",
      "metadata": {
        "id": "6KxK5sT9dxCl"
      },
      "source": [
        "#### Engineering missing values in categorical variables"
      ]
    },
    {
      "cell_type": "code",
      "metadata": {
        "colab": {
          "base_uri": "https://localhost:8080/"
        },
        "id": "90fhUR8jd11w",
        "outputId": "b686252f-796c-4cef-b4ab-d390762c075e"
      },
      "source": [
        "\n",
        "X_train[categorical].isnull().sum()"
      ],
      "execution_count": 23,
      "outputs": [
        {
          "output_type": "execute_result",
          "data": {
            "text/plain": [
              "Location          0\n",
              "WindGustDir    7407\n",
              "WindDir9am     7978\n",
              "WindDir3pm     3008\n",
              "RainToday      1139\n",
              "dtype: int64"
            ]
          },
          "metadata": {},
          "execution_count": 23
        }
      ]
    },
    {
      "cell_type": "code",
      "metadata": {
        "id": "InNuGUftd6FD"
      },
      "source": [
        "# impute missing categorical variables with most frequent value\n",
        "\n",
        "for df2 in [X_train, X_test]:\n",
        "    df2.loc[:]['WindGustDir'].fillna(X_train['WindGustDir'].mode()[0], inplace=True)\n",
        "    df2.loc[:]['WindDir9am'].fillna(X_train['WindDir9am'].mode()[0], inplace=True)\n",
        "    df2.loc[:]['WindDir3pm'].fillna(X_train['WindDir3pm'].mode()[0], inplace=True)\n",
        "    df2.loc[:]['RainToday'].fillna(X_train['RainToday'].mode()[0], inplace=True)"
      ],
      "execution_count": 24,
      "outputs": []
    },
    {
      "cell_type": "code",
      "metadata": {
        "colab": {
          "base_uri": "https://localhost:8080/"
        },
        "id": "ex_QZUxweK_e",
        "outputId": "11a7a01d-199c-4de3-a30f-25890a9320e2"
      },
      "source": [
        "# check missing values in categorical variables in X_train\n",
        "\n",
        "X_train[categorical].isnull().sum()"
      ],
      "execution_count": 25,
      "outputs": [
        {
          "output_type": "execute_result",
          "data": {
            "text/plain": [
              "Location       0\n",
              "WindGustDir    0\n",
              "WindDir9am     0\n",
              "WindDir3pm     0\n",
              "RainToday      0\n",
              "dtype: int64"
            ]
          },
          "metadata": {},
          "execution_count": 25
        }
      ]
    },
    {
      "cell_type": "code",
      "metadata": {
        "colab": {
          "base_uri": "https://localhost:8080/"
        },
        "id": "zsYi1urmeM9I",
        "outputId": "00be13f3-f4fa-4dbc-f214-ca79c1ebcbff"
      },
      "source": [
        "# check missing values in categorical variables in X_test\n",
        "\n",
        "X_test[categorical].isnull().sum()"
      ],
      "execution_count": 26,
      "outputs": [
        {
          "output_type": "execute_result",
          "data": {
            "text/plain": [
              "Location       0\n",
              "WindGustDir    0\n",
              "WindDir9am     0\n",
              "WindDir3pm     0\n",
              "RainToday      0\n",
              "dtype: int64"
            ]
          },
          "metadata": {},
          "execution_count": 26
        }
      ]
    },
    {
      "cell_type": "markdown",
      "metadata": {
        "id": "pcRbR4BdgJgx"
      },
      "source": [
        "#### Engineering outliers in numerical variable"
      ]
    },
    {
      "cell_type": "code",
      "metadata": {
        "id": "k5EDwWZsgOMM"
      },
      "source": [
        "def max_value(df3, variable, top):\n",
        "    return np.where(df3[variable]>top, top, df3[variable])\n",
        "\n",
        "for df3 in [X_train, X_test]:\n",
        "    df3.loc[:]['Rainfall'] = max_value(df3, 'Rainfall', 3.2)\n",
        "    df3.loc[:]['Evaporation'] = max_value(df3, 'Evaporation', 21.8)\n",
        "    df3.loc[:]['WindSpeed9am'] = max_value(df3, 'WindSpeed9am', 55)\n",
        "    df3.loc[:]['WindSpeed3pm'] = max_value(df3, 'WindSpeed3pm', 57)"
      ],
      "execution_count": 27,
      "outputs": []
    },
    {
      "cell_type": "code",
      "metadata": {
        "colab": {
          "base_uri": "https://localhost:8080/"
        },
        "id": "1kYpeCG5gbJJ",
        "outputId": "42119ad2-a905-4dc2-f3c4-62d463a32ade"
      },
      "source": [
        "X_train.Rainfall.max(), X_test.Rainfall.max()"
      ],
      "execution_count": 28,
      "outputs": [
        {
          "output_type": "execute_result",
          "data": {
            "text/plain": [
              "(3.2, 3.2)"
            ]
          },
          "metadata": {},
          "execution_count": 28
        }
      ]
    },
    {
      "cell_type": "code",
      "metadata": {
        "colab": {
          "base_uri": "https://localhost:8080/"
        },
        "id": "TDezBmGqgc64",
        "outputId": "56eeb414-bf19-4d17-ac13-64dfec3246f3"
      },
      "source": [
        "X_train.Evaporation.max(), X_test.Evaporation.max()"
      ],
      "execution_count": 29,
      "outputs": [
        {
          "output_type": "execute_result",
          "data": {
            "text/plain": [
              "(21.8, 21.8)"
            ]
          },
          "metadata": {},
          "execution_count": 29
        }
      ]
    },
    {
      "cell_type": "code",
      "metadata": {
        "colab": {
          "base_uri": "https://localhost:8080/"
        },
        "id": "W_unQlB1ge1t",
        "outputId": "75b62e3f-72ad-463a-978b-1058d80fbe56"
      },
      "source": [
        "X_train.WindSpeed9am.max(), X_test.WindSpeed9am.max()"
      ],
      "execution_count": 30,
      "outputs": [
        {
          "output_type": "execute_result",
          "data": {
            "text/plain": [
              "(55.0, 55.0)"
            ]
          },
          "metadata": {},
          "execution_count": 30
        }
      ]
    },
    {
      "cell_type": "code",
      "metadata": {
        "colab": {
          "base_uri": "https://localhost:8080/"
        },
        "id": "i6DiVf_7ghQL",
        "outputId": "7fcfbffe-7027-4f12-922b-805cca6e66b1"
      },
      "source": [
        "X_train.WindSpeed3pm.max(), X_test.WindSpeed3pm.max()"
      ],
      "execution_count": 31,
      "outputs": [
        {
          "output_type": "execute_result",
          "data": {
            "text/plain": [
              "(57.0, 57.0)"
            ]
          },
          "metadata": {},
          "execution_count": 31
        }
      ]
    },
    {
      "cell_type": "markdown",
      "metadata": {
        "id": "gNlQnvRMglGu"
      },
      "source": [
        "#### Encode categorical variables"
      ]
    },
    {
      "cell_type": "code",
      "metadata": {
        "colab": {
          "base_uri": "https://localhost:8080/"
        },
        "id": "PorYyOsFWChZ",
        "outputId": "0bff3822-fcd6-4dd3-ba85-ad1d170064b2"
      },
      "source": [
        "# encode RainToday variable\n",
        "\n",
        "import category_encoders as ce\n",
        "\n",
        "encoder = ce.BinaryEncoder(cols=['RainToday'])\n",
        "\n",
        "X_train = encoder.fit_transform(X_train)\n",
        "\n",
        "X_test = encoder.transform(X_test)\n",
        "\n"
      ],
      "execution_count": 32,
      "outputs": [
        {
          "output_type": "stream",
          "name": "stderr",
          "text": [
            "D:\\anaconda\\lib\\site-packages\\category_encoders\\utils.py:21: FutureWarning: is_categorical is deprecated and will be removed in a future version.  Use is_categorical_dtype instead\n  elif pd.api.types.is_categorical(cols):\n"
          ]
        }
      ]
    },
    {
      "cell_type": "code",
      "metadata": {
        "colab": {
          "base_uri": "https://localhost:8080/",
          "height": 215
        },
        "id": "I7T8QLFYg18s",
        "outputId": "642f7f38-0256-401a-f400-36cac1796a0b"
      },
      "source": [
        "X_train.head()"
      ],
      "execution_count": 33,
      "outputs": [
        {
          "output_type": "execute_result",
          "data": {
            "text/plain": [
              "            Location  MinTemp  MaxTemp  Rainfall  Evaporation  Sunshine  \\\n",
              "113462   Witchcliffe     13.9     22.6       0.2          4.8       8.5   \n",
              "89638         Cairns     22.4     29.4       2.0          6.0       6.3   \n",
              "138130  AliceSprings      9.7     36.2       0.0         11.4      12.3   \n",
              "87898         Cairns     20.5     30.1       0.0          8.8      11.1   \n",
              "16484      Newcastle     16.8     29.2       0.0          4.8       8.5   \n",
              "\n",
              "       WindGustDir  WindGustSpeed WindDir9am WindDir3pm  ...  Pressure3pm  \\\n",
              "113462           S           41.0        SSE          S  ...       1013.4   \n",
              "89638          ENE           33.0        SSE         SE  ...       1013.1   \n",
              "138130           E           31.0         NE          N  ...       1013.6   \n",
              "87898          ESE           37.0        SSE          E  ...       1010.8   \n",
              "16484            W           39.0          N         SE  ...       1015.2   \n",
              "\n",
              "        Cloud9am  Cloud3pm  Temp9am  Temp3pm  RainToday_0  RainToday_1  Year  \\\n",
              "113462       5.0       5.0     18.8     20.4            0            1  2014   \n",
              "89638        7.0       5.0     26.4     27.5            1            0  2015   \n",
              "138130       1.0       1.0     28.5     35.0            0            1  2014   \n",
              "87898        2.0       3.0     27.3     29.4            0            1  2010   \n",
              "16484        5.0       8.0     22.2     27.0            0            1  2012   \n",
              "\n",
              "        Month  Day  \n",
              "113462      4   25  \n",
              "89638      11    2  \n",
              "138130     10   19  \n",
              "87898      10   30  \n",
              "16484      11    8  \n",
              "\n",
              "[5 rows x 25 columns]"
            ],
            "text/html": "<div>\n<style scoped>\n    .dataframe tbody tr th:only-of-type {\n        vertical-align: middle;\n    }\n\n    .dataframe tbody tr th {\n        vertical-align: top;\n    }\n\n    .dataframe thead th {\n        text-align: right;\n    }\n</style>\n<table border=\"1\" class=\"dataframe\">\n  <thead>\n    <tr style=\"text-align: right;\">\n      <th></th>\n      <th>Location</th>\n      <th>MinTemp</th>\n      <th>MaxTemp</th>\n      <th>Rainfall</th>\n      <th>Evaporation</th>\n      <th>Sunshine</th>\n      <th>WindGustDir</th>\n      <th>WindGustSpeed</th>\n      <th>WindDir9am</th>\n      <th>WindDir3pm</th>\n      <th>...</th>\n      <th>Pressure3pm</th>\n      <th>Cloud9am</th>\n      <th>Cloud3pm</th>\n      <th>Temp9am</th>\n      <th>Temp3pm</th>\n      <th>RainToday_0</th>\n      <th>RainToday_1</th>\n      <th>Year</th>\n      <th>Month</th>\n      <th>Day</th>\n    </tr>\n  </thead>\n  <tbody>\n    <tr>\n      <th>113462</th>\n      <td>Witchcliffe</td>\n      <td>13.9</td>\n      <td>22.6</td>\n      <td>0.2</td>\n      <td>4.8</td>\n      <td>8.5</td>\n      <td>S</td>\n      <td>41.0</td>\n      <td>SSE</td>\n      <td>S</td>\n      <td>...</td>\n      <td>1013.4</td>\n      <td>5.0</td>\n      <td>5.0</td>\n      <td>18.8</td>\n      <td>20.4</td>\n      <td>0</td>\n      <td>1</td>\n      <td>2014</td>\n      <td>4</td>\n      <td>25</td>\n    </tr>\n    <tr>\n      <th>89638</th>\n      <td>Cairns</td>\n      <td>22.4</td>\n      <td>29.4</td>\n      <td>2.0</td>\n      <td>6.0</td>\n      <td>6.3</td>\n      <td>ENE</td>\n      <td>33.0</td>\n      <td>SSE</td>\n      <td>SE</td>\n      <td>...</td>\n      <td>1013.1</td>\n      <td>7.0</td>\n      <td>5.0</td>\n      <td>26.4</td>\n      <td>27.5</td>\n      <td>1</td>\n      <td>0</td>\n      <td>2015</td>\n      <td>11</td>\n      <td>2</td>\n    </tr>\n    <tr>\n      <th>138130</th>\n      <td>AliceSprings</td>\n      <td>9.7</td>\n      <td>36.2</td>\n      <td>0.0</td>\n      <td>11.4</td>\n      <td>12.3</td>\n      <td>E</td>\n      <td>31.0</td>\n      <td>NE</td>\n      <td>N</td>\n      <td>...</td>\n      <td>1013.6</td>\n      <td>1.0</td>\n      <td>1.0</td>\n      <td>28.5</td>\n      <td>35.0</td>\n      <td>0</td>\n      <td>1</td>\n      <td>2014</td>\n      <td>10</td>\n      <td>19</td>\n    </tr>\n    <tr>\n      <th>87898</th>\n      <td>Cairns</td>\n      <td>20.5</td>\n      <td>30.1</td>\n      <td>0.0</td>\n      <td>8.8</td>\n      <td>11.1</td>\n      <td>ESE</td>\n      <td>37.0</td>\n      <td>SSE</td>\n      <td>E</td>\n      <td>...</td>\n      <td>1010.8</td>\n      <td>2.0</td>\n      <td>3.0</td>\n      <td>27.3</td>\n      <td>29.4</td>\n      <td>0</td>\n      <td>1</td>\n      <td>2010</td>\n      <td>10</td>\n      <td>30</td>\n    </tr>\n    <tr>\n      <th>16484</th>\n      <td>Newcastle</td>\n      <td>16.8</td>\n      <td>29.2</td>\n      <td>0.0</td>\n      <td>4.8</td>\n      <td>8.5</td>\n      <td>W</td>\n      <td>39.0</td>\n      <td>N</td>\n      <td>SE</td>\n      <td>...</td>\n      <td>1015.2</td>\n      <td>5.0</td>\n      <td>8.0</td>\n      <td>22.2</td>\n      <td>27.0</td>\n      <td>0</td>\n      <td>1</td>\n      <td>2012</td>\n      <td>11</td>\n      <td>8</td>\n    </tr>\n  </tbody>\n</table>\n<p>5 rows × 25 columns</p>\n</div>"
          },
          "metadata": {},
          "execution_count": 33
        }
      ]
    },
    {
      "cell_type": "code",
      "metadata": {
        "id": "W-pVvb2lWChZ"
      },
      "source": [
        "from sklearn.preprocessing import LabelEncoder\n",
        "le = LabelEncoder()\n",
        "y_train = le.fit_transform(y_train)\n",
        "y_test = le.transform(y_test)"
      ],
      "execution_count": 34,
      "outputs": []
    },
    {
      "cell_type": "code",
      "metadata": {
        "id": "kX8Iau3wWCha"
      },
      "source": [
        "# X = pd.concat([X[numerical], X[['RainToday_0', 'RainToday_1']],\n",
        "#                      pd.get_dummies(X, columns=[\"Location\", \"WindGustDir\", \"WindDir9am\", \"WindDir3pm\"])], \n",
        "#                      axis=1)\n",
        "# X_dummy = pd.get_dummies(X,  columns=[\"Location\"])\n",
        "X_train = pd.get_dummies(X_train,  columns=[\"Location\", \"WindGustDir\", \"WindDir9am\", \"WindDir3pm\"])\n",
        "X_test = pd.get_dummies(X_test,  columns=[\"Location\", \"WindGustDir\", \"WindDir9am\", \"WindDir3pm\"])\n",
        "\n",
        "# X_train = pd.concat([X_train[numerical], X_train[['RainToday_0', 'RainToday_1']],\n",
        "#                      pd.get_dummies(X_train.Location), \n",
        "#                      pd.get_dummies(X_train.WindGustDir),\n",
        "#                      pd.get_dummies(X_train.WindDir9am),\n",
        "#                      pd.get_dummies(X_train.WindDir3pm)], axis=1)\n"
      ],
      "execution_count": 35,
      "outputs": []
    },
    {
      "cell_type": "code",
      "metadata": {
        "id": "vBcm5idNWCha",
        "colab": {
          "base_uri": "https://localhost:8080/",
          "height": 244
        },
        "outputId": "746ffdc5-e93a-4723-e6d3-92108f6ee5a0"
      },
      "source": [
        "X_train.head()"
      ],
      "execution_count": 36,
      "outputs": [
        {
          "output_type": "execute_result",
          "data": {
            "text/plain": [
              "        MinTemp  MaxTemp  Rainfall  Evaporation  Sunshine  WindGustSpeed  \\\n",
              "113462     13.9     22.6       0.2          4.8       8.5           41.0   \n",
              "89638      22.4     29.4       2.0          6.0       6.3           33.0   \n",
              "138130      9.7     36.2       0.0         11.4      12.3           31.0   \n",
              "87898      20.5     30.1       0.0          8.8      11.1           37.0   \n",
              "16484      16.8     29.2       0.0          4.8       8.5           39.0   \n",
              "\n",
              "        WindSpeed9am  WindSpeed3pm  Humidity9am  Humidity3pm  ...  \\\n",
              "113462          20.0          28.0         65.0         55.0  ...   \n",
              "89638            7.0          19.0         71.0         59.0  ...   \n",
              "138130          15.0          11.0          6.0          2.0  ...   \n",
              "87898           22.0          19.0         59.0         53.0  ...   \n",
              "16484            0.0           7.0         72.0         53.0  ...   \n",
              "\n",
              "        WindDir3pm_NNW  WindDir3pm_NW  WindDir3pm_S  WindDir3pm_SE  \\\n",
              "113462               0              0             1              0   \n",
              "89638                0              0             0              1   \n",
              "138130               0              0             0              0   \n",
              "87898                0              0             0              0   \n",
              "16484                0              0             0              1   \n",
              "\n",
              "        WindDir3pm_SSE  WindDir3pm_SSW  WindDir3pm_SW  WindDir3pm_W  \\\n",
              "113462               0               0              0             0   \n",
              "89638                0               0              0             0   \n",
              "138130               0               0              0             0   \n",
              "87898                0               0              0             0   \n",
              "16484                0               0              0             0   \n",
              "\n",
              "        WindDir3pm_WNW  WindDir3pm_WSW  \n",
              "113462               0               0  \n",
              "89638                0               0  \n",
              "138130               0               0  \n",
              "87898                0               0  \n",
              "16484                0               0  \n",
              "\n",
              "[5 rows x 118 columns]"
            ],
            "text/html": "<div>\n<style scoped>\n    .dataframe tbody tr th:only-of-type {\n        vertical-align: middle;\n    }\n\n    .dataframe tbody tr th {\n        vertical-align: top;\n    }\n\n    .dataframe thead th {\n        text-align: right;\n    }\n</style>\n<table border=\"1\" class=\"dataframe\">\n  <thead>\n    <tr style=\"text-align: right;\">\n      <th></th>\n      <th>MinTemp</th>\n      <th>MaxTemp</th>\n      <th>Rainfall</th>\n      <th>Evaporation</th>\n      <th>Sunshine</th>\n      <th>WindGustSpeed</th>\n      <th>WindSpeed9am</th>\n      <th>WindSpeed3pm</th>\n      <th>Humidity9am</th>\n      <th>Humidity3pm</th>\n      <th>...</th>\n      <th>WindDir3pm_NNW</th>\n      <th>WindDir3pm_NW</th>\n      <th>WindDir3pm_S</th>\n      <th>WindDir3pm_SE</th>\n      <th>WindDir3pm_SSE</th>\n      <th>WindDir3pm_SSW</th>\n      <th>WindDir3pm_SW</th>\n      <th>WindDir3pm_W</th>\n      <th>WindDir3pm_WNW</th>\n      <th>WindDir3pm_WSW</th>\n    </tr>\n  </thead>\n  <tbody>\n    <tr>\n      <th>113462</th>\n      <td>13.9</td>\n      <td>22.6</td>\n      <td>0.2</td>\n      <td>4.8</td>\n      <td>8.5</td>\n      <td>41.0</td>\n      <td>20.0</td>\n      <td>28.0</td>\n      <td>65.0</td>\n      <td>55.0</td>\n      <td>...</td>\n      <td>0</td>\n      <td>0</td>\n      <td>1</td>\n      <td>0</td>\n      <td>0</td>\n      <td>0</td>\n      <td>0</td>\n      <td>0</td>\n      <td>0</td>\n      <td>0</td>\n    </tr>\n    <tr>\n      <th>89638</th>\n      <td>22.4</td>\n      <td>29.4</td>\n      <td>2.0</td>\n      <td>6.0</td>\n      <td>6.3</td>\n      <td>33.0</td>\n      <td>7.0</td>\n      <td>19.0</td>\n      <td>71.0</td>\n      <td>59.0</td>\n      <td>...</td>\n      <td>0</td>\n      <td>0</td>\n      <td>0</td>\n      <td>1</td>\n      <td>0</td>\n      <td>0</td>\n      <td>0</td>\n      <td>0</td>\n      <td>0</td>\n      <td>0</td>\n    </tr>\n    <tr>\n      <th>138130</th>\n      <td>9.7</td>\n      <td>36.2</td>\n      <td>0.0</td>\n      <td>11.4</td>\n      <td>12.3</td>\n      <td>31.0</td>\n      <td>15.0</td>\n      <td>11.0</td>\n      <td>6.0</td>\n      <td>2.0</td>\n      <td>...</td>\n      <td>0</td>\n      <td>0</td>\n      <td>0</td>\n      <td>0</td>\n      <td>0</td>\n      <td>0</td>\n      <td>0</td>\n      <td>0</td>\n      <td>0</td>\n      <td>0</td>\n    </tr>\n    <tr>\n      <th>87898</th>\n      <td>20.5</td>\n      <td>30.1</td>\n      <td>0.0</td>\n      <td>8.8</td>\n      <td>11.1</td>\n      <td>37.0</td>\n      <td>22.0</td>\n      <td>19.0</td>\n      <td>59.0</td>\n      <td>53.0</td>\n      <td>...</td>\n      <td>0</td>\n      <td>0</td>\n      <td>0</td>\n      <td>0</td>\n      <td>0</td>\n      <td>0</td>\n      <td>0</td>\n      <td>0</td>\n      <td>0</td>\n      <td>0</td>\n    </tr>\n    <tr>\n      <th>16484</th>\n      <td>16.8</td>\n      <td>29.2</td>\n      <td>0.0</td>\n      <td>4.8</td>\n      <td>8.5</td>\n      <td>39.0</td>\n      <td>0.0</td>\n      <td>7.0</td>\n      <td>72.0</td>\n      <td>53.0</td>\n      <td>...</td>\n      <td>0</td>\n      <td>0</td>\n      <td>0</td>\n      <td>1</td>\n      <td>0</td>\n      <td>0</td>\n      <td>0</td>\n      <td>0</td>\n      <td>0</td>\n      <td>0</td>\n    </tr>\n  </tbody>\n</table>\n<p>5 rows × 118 columns</p>\n</div>"
          },
          "metadata": {},
          "execution_count": 36
        }
      ]
    },
    {
      "cell_type": "code",
      "metadata": {
        "colab": {
          "base_uri": "https://localhost:8080/",
          "height": 244
        },
        "id": "oBMsw6GnhHqn",
        "outputId": "d0a0865e-a7d6-42aa-f238-fefbbc8a28bd"
      },
      "source": [
        "X_test.head()"
      ],
      "execution_count": 37,
      "outputs": [
        {
          "output_type": "execute_result",
          "data": {
            "text/plain": [
              "        MinTemp  MaxTemp  Rainfall  Evaporation  Sunshine  WindGustSpeed  \\\n",
              "88578      17.4     29.0       0.0          3.6      11.1           33.0   \n",
              "59016       6.8     14.4       0.8          0.8       8.5           46.0   \n",
              "127049     10.1     15.4       3.2          4.8       8.5           31.0   \n",
              "120886     14.4     33.4       0.0          8.0      11.6           41.0   \n",
              "136649      6.8     14.3       3.2          0.2       7.3           28.0   \n",
              "\n",
              "        WindSpeed9am  WindSpeed3pm  Humidity9am  Humidity3pm  ...  \\\n",
              "88578           11.0          19.0         63.0         61.0  ...   \n",
              "59016           17.0          22.0         80.0         55.0  ...   \n",
              "127049          13.0           9.0         70.0         61.0  ...   \n",
              "120886           9.0          17.0         40.0         23.0  ...   \n",
              "136649          15.0          13.0         92.0         47.0  ...   \n",
              "\n",
              "        WindDir3pm_NNW  WindDir3pm_NW  WindDir3pm_S  WindDir3pm_SE  \\\n",
              "88578                0              0             0              0   \n",
              "59016                0              0             1              0   \n",
              "127049               0              0             0              0   \n",
              "120886               0              0             0              0   \n",
              "136649               0              0             0              0   \n",
              "\n",
              "        WindDir3pm_SSE  WindDir3pm_SSW  WindDir3pm_SW  WindDir3pm_W  \\\n",
              "88578                0               0              0             0   \n",
              "59016                0               0              0             0   \n",
              "127049               1               0              0             0   \n",
              "120886               0               0              1             0   \n",
              "136649               0               0              0             0   \n",
              "\n",
              "        WindDir3pm_WNW  WindDir3pm_WSW  \n",
              "88578                0               0  \n",
              "59016                0               0  \n",
              "127049               0               0  \n",
              "120886               0               0  \n",
              "136649               0               0  \n",
              "\n",
              "[5 rows x 118 columns]"
            ],
            "text/html": "<div>\n<style scoped>\n    .dataframe tbody tr th:only-of-type {\n        vertical-align: middle;\n    }\n\n    .dataframe tbody tr th {\n        vertical-align: top;\n    }\n\n    .dataframe thead th {\n        text-align: right;\n    }\n</style>\n<table border=\"1\" class=\"dataframe\">\n  <thead>\n    <tr style=\"text-align: right;\">\n      <th></th>\n      <th>MinTemp</th>\n      <th>MaxTemp</th>\n      <th>Rainfall</th>\n      <th>Evaporation</th>\n      <th>Sunshine</th>\n      <th>WindGustSpeed</th>\n      <th>WindSpeed9am</th>\n      <th>WindSpeed3pm</th>\n      <th>Humidity9am</th>\n      <th>Humidity3pm</th>\n      <th>...</th>\n      <th>WindDir3pm_NNW</th>\n      <th>WindDir3pm_NW</th>\n      <th>WindDir3pm_S</th>\n      <th>WindDir3pm_SE</th>\n      <th>WindDir3pm_SSE</th>\n      <th>WindDir3pm_SSW</th>\n      <th>WindDir3pm_SW</th>\n      <th>WindDir3pm_W</th>\n      <th>WindDir3pm_WNW</th>\n      <th>WindDir3pm_WSW</th>\n    </tr>\n  </thead>\n  <tbody>\n    <tr>\n      <th>88578</th>\n      <td>17.4</td>\n      <td>29.0</td>\n      <td>0.0</td>\n      <td>3.6</td>\n      <td>11.1</td>\n      <td>33.0</td>\n      <td>11.0</td>\n      <td>19.0</td>\n      <td>63.0</td>\n      <td>61.0</td>\n      <td>...</td>\n      <td>0</td>\n      <td>0</td>\n      <td>0</td>\n      <td>0</td>\n      <td>0</td>\n      <td>0</td>\n      <td>0</td>\n      <td>0</td>\n      <td>0</td>\n      <td>0</td>\n    </tr>\n    <tr>\n      <th>59016</th>\n      <td>6.8</td>\n      <td>14.4</td>\n      <td>0.8</td>\n      <td>0.8</td>\n      <td>8.5</td>\n      <td>46.0</td>\n      <td>17.0</td>\n      <td>22.0</td>\n      <td>80.0</td>\n      <td>55.0</td>\n      <td>...</td>\n      <td>0</td>\n      <td>0</td>\n      <td>1</td>\n      <td>0</td>\n      <td>0</td>\n      <td>0</td>\n      <td>0</td>\n      <td>0</td>\n      <td>0</td>\n      <td>0</td>\n    </tr>\n    <tr>\n      <th>127049</th>\n      <td>10.1</td>\n      <td>15.4</td>\n      <td>3.2</td>\n      <td>4.8</td>\n      <td>8.5</td>\n      <td>31.0</td>\n      <td>13.0</td>\n      <td>9.0</td>\n      <td>70.0</td>\n      <td>61.0</td>\n      <td>...</td>\n      <td>0</td>\n      <td>0</td>\n      <td>0</td>\n      <td>0</td>\n      <td>1</td>\n      <td>0</td>\n      <td>0</td>\n      <td>0</td>\n      <td>0</td>\n      <td>0</td>\n    </tr>\n    <tr>\n      <th>120886</th>\n      <td>14.4</td>\n      <td>33.4</td>\n      <td>0.0</td>\n      <td>8.0</td>\n      <td>11.6</td>\n      <td>41.0</td>\n      <td>9.0</td>\n      <td>17.0</td>\n      <td>40.0</td>\n      <td>23.0</td>\n      <td>...</td>\n      <td>0</td>\n      <td>0</td>\n      <td>0</td>\n      <td>0</td>\n      <td>0</td>\n      <td>0</td>\n      <td>1</td>\n      <td>0</td>\n      <td>0</td>\n      <td>0</td>\n    </tr>\n    <tr>\n      <th>136649</th>\n      <td>6.8</td>\n      <td>14.3</td>\n      <td>3.2</td>\n      <td>0.2</td>\n      <td>7.3</td>\n      <td>28.0</td>\n      <td>15.0</td>\n      <td>13.0</td>\n      <td>92.0</td>\n      <td>47.0</td>\n      <td>...</td>\n      <td>0</td>\n      <td>0</td>\n      <td>0</td>\n      <td>0</td>\n      <td>0</td>\n      <td>0</td>\n      <td>0</td>\n      <td>0</td>\n      <td>0</td>\n      <td>0</td>\n    </tr>\n  </tbody>\n</table>\n<p>5 rows × 118 columns</p>\n</div>"
          },
          "metadata": {},
          "execution_count": 37
        }
      ]
    },
    {
      "cell_type": "markdown",
      "metadata": {
        "id": "4ylwqtr_hN57"
      },
      "source": [
        "#### Feature scaling "
      ]
    },
    {
      "cell_type": "code",
      "metadata": {
        "id": "QmxnEDjpWChe"
      },
      "source": [
        "from sklearn.preprocessing import MinMaxScaler\n",
        "\n",
        "scaler = MinMaxScaler()\n",
        "\n",
        "X_train_transformed = scaler.fit_transform(X_train)\n",
        "\n",
        "X_test_transformed = scaler.transform(X_test)"
      ],
      "execution_count": 38,
      "outputs": []
    },
    {
      "cell_type": "code",
      "metadata": {
        "id": "XqLQC9LGNfn4"
      },
      "source": [
        "X_train_transformed_split, X_val_transformed, y_train_split, y_val = train_test_split(X_train_transformed, y_train, test_size=0.2, random_state = 0)"
      ],
      "execution_count": 39,
      "outputs": []
    },
    {
      "cell_type": "markdown",
      "metadata": {
        "id": "-4qOSfJSjP6n"
      },
      "source": [
        "#### Save input data and labels to csv files"
      ]
    },
    {
      "cell_type": "code",
      "metadata": {
        "id": "ep_PPbfgjsOz"
      },
      "source": [
        "X_train_transformed_df = pd.DataFrame(X_train_transformed, columns=X_train.columns)\n",
        "y_train_df = pd.DataFrame(y_train, columns=['RainTomorrow']).reset_index(drop=True)\n",
        "X_test_transformed_df = pd.DataFrame(X_test_transformed, columns=X_test.columns)\n",
        "y_test_df = pd.DataFrame(y_test, columns=['RainTomorrow']).reset_index(drop=True)\n"
      ],
      "execution_count": 40,
      "outputs": []
    },
    {
      "cell_type": "code",
      "metadata": {
        "colab": {
          "base_uri": "https://localhost:8080/",
          "height": 244
        },
        "id": "1A3-Wa2olQ3B",
        "outputId": "c22565fc-7f1b-4f79-850a-58762670c412"
      },
      "source": [
        "X_train_transformed_df.head()"
      ],
      "execution_count": 41,
      "outputs": [
        {
          "output_type": "execute_result",
          "data": {
            "text/plain": [
              "    MinTemp   MaxTemp  Rainfall  Evaporation  Sunshine  WindGustSpeed  \\\n",
              "0  0.524941  0.517958    0.0625     0.220183  0.586207       0.271318   \n",
              "1  0.726841  0.646503    0.6250     0.275229  0.434483       0.209302   \n",
              "2  0.425178  0.775047    0.0000     0.522936  0.848276       0.193798   \n",
              "3  0.681710  0.659735    0.0000     0.403670  0.765517       0.240310   \n",
              "4  0.593824  0.642722    0.0000     0.220183  0.586207       0.255814   \n",
              "\n",
              "   WindSpeed9am  WindSpeed3pm  Humidity9am  Humidity3pm  ...  WindDir3pm_NNW  \\\n",
              "0      0.363636      0.491228         0.65         0.55  ...             0.0   \n",
              "1      0.127273      0.333333         0.71         0.59  ...             0.0   \n",
              "2      0.272727      0.192982         0.06         0.02  ...             0.0   \n",
              "3      0.400000      0.333333         0.59         0.53  ...             0.0   \n",
              "4      0.000000      0.122807         0.72         0.53  ...             0.0   \n",
              "\n",
              "   WindDir3pm_NW  WindDir3pm_S  WindDir3pm_SE  WindDir3pm_SSE  WindDir3pm_SSW  \\\n",
              "0            0.0           1.0            0.0             0.0             0.0   \n",
              "1            0.0           0.0            1.0             0.0             0.0   \n",
              "2            0.0           0.0            0.0             0.0             0.0   \n",
              "3            0.0           0.0            0.0             0.0             0.0   \n",
              "4            0.0           0.0            1.0             0.0             0.0   \n",
              "\n",
              "   WindDir3pm_SW  WindDir3pm_W  WindDir3pm_WNW  WindDir3pm_WSW  \n",
              "0            0.0           0.0             0.0             0.0  \n",
              "1            0.0           0.0             0.0             0.0  \n",
              "2            0.0           0.0             0.0             0.0  \n",
              "3            0.0           0.0             0.0             0.0  \n",
              "4            0.0           0.0             0.0             0.0  \n",
              "\n",
              "[5 rows x 118 columns]"
            ],
            "text/html": "<div>\n<style scoped>\n    .dataframe tbody tr th:only-of-type {\n        vertical-align: middle;\n    }\n\n    .dataframe tbody tr th {\n        vertical-align: top;\n    }\n\n    .dataframe thead th {\n        text-align: right;\n    }\n</style>\n<table border=\"1\" class=\"dataframe\">\n  <thead>\n    <tr style=\"text-align: right;\">\n      <th></th>\n      <th>MinTemp</th>\n      <th>MaxTemp</th>\n      <th>Rainfall</th>\n      <th>Evaporation</th>\n      <th>Sunshine</th>\n      <th>WindGustSpeed</th>\n      <th>WindSpeed9am</th>\n      <th>WindSpeed3pm</th>\n      <th>Humidity9am</th>\n      <th>Humidity3pm</th>\n      <th>...</th>\n      <th>WindDir3pm_NNW</th>\n      <th>WindDir3pm_NW</th>\n      <th>WindDir3pm_S</th>\n      <th>WindDir3pm_SE</th>\n      <th>WindDir3pm_SSE</th>\n      <th>WindDir3pm_SSW</th>\n      <th>WindDir3pm_SW</th>\n      <th>WindDir3pm_W</th>\n      <th>WindDir3pm_WNW</th>\n      <th>WindDir3pm_WSW</th>\n    </tr>\n  </thead>\n  <tbody>\n    <tr>\n      <th>0</th>\n      <td>0.524941</td>\n      <td>0.517958</td>\n      <td>0.0625</td>\n      <td>0.220183</td>\n      <td>0.586207</td>\n      <td>0.271318</td>\n      <td>0.363636</td>\n      <td>0.491228</td>\n      <td>0.65</td>\n      <td>0.55</td>\n      <td>...</td>\n      <td>0.0</td>\n      <td>0.0</td>\n      <td>1.0</td>\n      <td>0.0</td>\n      <td>0.0</td>\n      <td>0.0</td>\n      <td>0.0</td>\n      <td>0.0</td>\n      <td>0.0</td>\n      <td>0.0</td>\n    </tr>\n    <tr>\n      <th>1</th>\n      <td>0.726841</td>\n      <td>0.646503</td>\n      <td>0.6250</td>\n      <td>0.275229</td>\n      <td>0.434483</td>\n      <td>0.209302</td>\n      <td>0.127273</td>\n      <td>0.333333</td>\n      <td>0.71</td>\n      <td>0.59</td>\n      <td>...</td>\n      <td>0.0</td>\n      <td>0.0</td>\n      <td>0.0</td>\n      <td>1.0</td>\n      <td>0.0</td>\n      <td>0.0</td>\n      <td>0.0</td>\n      <td>0.0</td>\n      <td>0.0</td>\n      <td>0.0</td>\n    </tr>\n    <tr>\n      <th>2</th>\n      <td>0.425178</td>\n      <td>0.775047</td>\n      <td>0.0000</td>\n      <td>0.522936</td>\n      <td>0.848276</td>\n      <td>0.193798</td>\n      <td>0.272727</td>\n      <td>0.192982</td>\n      <td>0.06</td>\n      <td>0.02</td>\n      <td>...</td>\n      <td>0.0</td>\n      <td>0.0</td>\n      <td>0.0</td>\n      <td>0.0</td>\n      <td>0.0</td>\n      <td>0.0</td>\n      <td>0.0</td>\n      <td>0.0</td>\n      <td>0.0</td>\n      <td>0.0</td>\n    </tr>\n    <tr>\n      <th>3</th>\n      <td>0.681710</td>\n      <td>0.659735</td>\n      <td>0.0000</td>\n      <td>0.403670</td>\n      <td>0.765517</td>\n      <td>0.240310</td>\n      <td>0.400000</td>\n      <td>0.333333</td>\n      <td>0.59</td>\n      <td>0.53</td>\n      <td>...</td>\n      <td>0.0</td>\n      <td>0.0</td>\n      <td>0.0</td>\n      <td>0.0</td>\n      <td>0.0</td>\n      <td>0.0</td>\n      <td>0.0</td>\n      <td>0.0</td>\n      <td>0.0</td>\n      <td>0.0</td>\n    </tr>\n    <tr>\n      <th>4</th>\n      <td>0.593824</td>\n      <td>0.642722</td>\n      <td>0.0000</td>\n      <td>0.220183</td>\n      <td>0.586207</td>\n      <td>0.255814</td>\n      <td>0.000000</td>\n      <td>0.122807</td>\n      <td>0.72</td>\n      <td>0.53</td>\n      <td>...</td>\n      <td>0.0</td>\n      <td>0.0</td>\n      <td>0.0</td>\n      <td>1.0</td>\n      <td>0.0</td>\n      <td>0.0</td>\n      <td>0.0</td>\n      <td>0.0</td>\n      <td>0.0</td>\n      <td>0.0</td>\n    </tr>\n  </tbody>\n</table>\n<p>5 rows × 118 columns</p>\n</div>"
          },
          "metadata": {},
          "execution_count": 41
        }
      ]
    },
    {
      "cell_type": "code",
      "metadata": {
        "colab": {
          "base_uri": "https://localhost:8080/",
          "height": 402
        },
        "id": "y5XOrneFmbp6",
        "outputId": "2ecd8f6c-cca4-4a54-a4a2-118b37db42c4"
      },
      "source": [
        "y_train_df "
      ],
      "execution_count": 42,
      "outputs": [
        {
          "output_type": "execute_result",
          "data": {
            "text/plain": [
              "        RainTomorrow\n",
              "0                  0\n",
              "1                  0\n",
              "2                  0\n",
              "3                  0\n",
              "4                  1\n",
              "...              ...\n",
              "113749             0\n",
              "113750             0\n",
              "113751             0\n",
              "113752             0\n",
              "113753             1\n",
              "\n",
              "[113754 rows x 1 columns]"
            ],
            "text/html": "<div>\n<style scoped>\n    .dataframe tbody tr th:only-of-type {\n        vertical-align: middle;\n    }\n\n    .dataframe tbody tr th {\n        vertical-align: top;\n    }\n\n    .dataframe thead th {\n        text-align: right;\n    }\n</style>\n<table border=\"1\" class=\"dataframe\">\n  <thead>\n    <tr style=\"text-align: right;\">\n      <th></th>\n      <th>RainTomorrow</th>\n    </tr>\n  </thead>\n  <tbody>\n    <tr>\n      <th>0</th>\n      <td>0</td>\n    </tr>\n    <tr>\n      <th>1</th>\n      <td>0</td>\n    </tr>\n    <tr>\n      <th>2</th>\n      <td>0</td>\n    </tr>\n    <tr>\n      <th>3</th>\n      <td>0</td>\n    </tr>\n    <tr>\n      <th>4</th>\n      <td>1</td>\n    </tr>\n    <tr>\n      <th>...</th>\n      <td>...</td>\n    </tr>\n    <tr>\n      <th>113749</th>\n      <td>0</td>\n    </tr>\n    <tr>\n      <th>113750</th>\n      <td>0</td>\n    </tr>\n    <tr>\n      <th>113751</th>\n      <td>0</td>\n    </tr>\n    <tr>\n      <th>113752</th>\n      <td>0</td>\n    </tr>\n    <tr>\n      <th>113753</th>\n      <td>1</td>\n    </tr>\n  </tbody>\n</table>\n<p>113754 rows × 1 columns</p>\n</div>"
          },
          "metadata": {},
          "execution_count": 42
        }
      ]
    },
    {
      "cell_type": "code",
      "execution_count": 51,
      "metadata": {},
      "outputs": [],
      "source": [
        "df_train = X_train_transformed_df.join(y_train_df)\n",
        "df_test = X_test_transformed_df.join(y_test_df)"
      ]
    },
    {
      "cell_type": "code",
      "metadata": {
        "id": "djXqFHBh2mLB"
      },
      "source": [
        "SAVE_DIR = '../data'"
      ],
      "execution_count": 46,
      "outputs": []
    },
    {
      "cell_type": "code",
      "metadata": {
        "id": "kaQfZfsAok2T"
      },
      "source": [
        "df_train.to_csv(os.path.join(SAVE_DIR, 'train.csv'), index=False)\n",
        "df_test.to_csv(os.path.join(SAVE_DIR, 'test.csv'), index=False)"
      ],
      "execution_count": 52,
      "outputs": []
    }
  ]
}