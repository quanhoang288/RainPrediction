{
  "nbformat": 4,
  "nbformat_minor": 0,
  "metadata": {
    "colab": {
      "name": "data_resample.ipynb",
      "provenance": []
    },
    "kernelspec": {
      "name": "python3",
      "display_name": "Python 3"
    },
    "language_info": {
      "name": "python"
    }
  },
  "cells": [
    {
      "cell_type": "markdown",
      "metadata": {
        "id": "o7jan-d3qD02"
      },
      "source": [
        "## Handle unbalanced dataset"
      ]
    },
    {
      "cell_type": "code",
      "metadata": {
        "id": "rldsW3-5yaCo",
        "colab": {
          "base_uri": "https://localhost:8080/"
        },
        "outputId": "14e80221-eca7-4910-b287-0c9d3c2c7dde"
      },
      "source": [
        "from imblearn.over_sampling import RandomOverSampler, SMOTE\n",
        "from imblearn.under_sampling import RandomUnderSampler, TomekLinks, EditedNearestNeighbours\n",
        "from imblearn.combine import SMOTEENN, SMOTETomek\n",
        "from imblearn.pipeline import Pipeline\n",
        "from sklearn.metrics import classification_report"
      ],
      "execution_count": null,
      "outputs": [
        {
          "output_type": "stream",
          "text": [
            "/usr/local/lib/python3.7/dist-packages/sklearn/externals/six.py:31: FutureWarning: The module is deprecated in version 0.21 and will be removed in version 0.23 since we've dropped support for Python 2.7. Please rely on the official version of six (https://pypi.org/project/six/).\n",
            "  \"(https://pypi.org/project/six/).\", FutureWarning)\n",
            "/usr/local/lib/python3.7/dist-packages/sklearn/utils/deprecation.py:144: FutureWarning: The sklearn.neighbors.base module is  deprecated in version 0.22 and will be removed in version 0.24. The corresponding classes / functions should instead be imported from sklearn.neighbors. Anything that cannot be imported from sklearn.neighbors is now part of the private API.\n",
            "  warnings.warn(message, FutureWarning)\n"
          ],
          "name": "stderr"
        }
      ]
    },
    {
      "cell_type": "code",
      "metadata": {
        "id": "nmVHCgCaeWzV"
      },
      "source": [
        "def fit_and_evaluate(model, X_train, y_train, X_test, y_test):\n",
        "    _ = model.fit(X_train, y_train)\n",
        "    y_pred = model.predict(X_test)\n",
        "    target_names = ['No', 'Yes']\n",
        "    print(model)\n",
        "    print(classification_report(y_test, y_pred, target_names=target_names))\n",
        "def random_oversample(X_train, y_train, ratio=1):\n",
        "    ros = RandomOverSampler(sampling_strategy=ratio, random_state=0)\n",
        "    return ros.fit_sample(X_train, y_train)\n",
        "def SMOTE_oversample(X_train, y_train, ratio=1):\n",
        "    smote = SMOTE(sampling_strategy=ratio)\n",
        "    return smote.fit_sample(X_train, y_train)\n",
        "def random_undersample(X_train, y_train, ratio=1):\n",
        "    rus = RandomUnderSampler(sampling_strategy=ratio, random_state=0)\n",
        "    return rus.fit_sample(X_train, y_train)\n",
        "\n"
      ],
      "execution_count": null,
      "outputs": []
    },
    {
      "cell_type": "markdown",
      "metadata": {
        "id": "vS2flmQl16gl"
      },
      "source": [
        "###Oversampling "
      ]
    },
    {
      "cell_type": "markdown",
      "metadata": {
        "id": "Ho41Isk-beKv"
      },
      "source": [
        "#### Naive Random Oversampling"
      ]
    },
    {
      "cell_type": "markdown",
      "metadata": {
        "id": "4_VXHRfse2Qb"
      },
      "source": [
        "##### 1:1 ratio"
      ]
    },
    {
      "cell_type": "code",
      "metadata": {
        "colab": {
          "base_uri": "https://localhost:8080/"
        },
        "id": "0rlZtVS1b5W4",
        "outputId": "de922e5c-89e9-4c93-983a-52ac4e4beffd"
      },
      "source": [
        "# 1:1 ratio\n",
        "ros = RandomOverSampler(random_state=0)\n",
        "X_train_ros_11, y_train_ros_11 = ros.fit_sample(X_train_transformed, y_train)"
      ],
      "execution_count": null,
      "outputs": [
        {
          "output_type": "stream",
          "text": [
            "/usr/local/lib/python3.7/dist-packages/sklearn/utils/deprecation.py:87: FutureWarning: Function safe_indexing is deprecated; safe_indexing is deprecated in version 0.22 and will be removed in version 0.24.\n",
            "  warnings.warn(msg, category=FutureWarning)\n"
          ],
          "name": "stderr"
        }
      ]
    },
    {
      "cell_type": "code",
      "metadata": {
        "colab": {
          "base_uri": "https://localhost:8080/"
        },
        "id": "pgtMLHN2cFBp",
        "outputId": "def84ce0-f86f-4e3c-c32a-acb190997463"
      },
      "source": [
        "pd.Series(y_train_ros).value_counts()"
      ],
      "execution_count": null,
      "outputs": [
        {
          "output_type": "execute_result",
          "data": {
            "text/plain": [
              "1    88249\n",
              "0    88249\n",
              "dtype: int64"
            ]
          },
          "metadata": {
            "tags": []
          },
          "execution_count": 29
        }
      ]
    },
    {
      "cell_type": "code",
      "metadata": {
        "id": "fD8dQNmhcKC_"
      },
      "source": [
        "from sklearn.linear_model import LogisticRegression \n",
        "from sklearn.svm import LinearSVC\n",
        "from sklearn.tree import DecisionTreeClassifier\n",
        "from sklearn.metrics import classification_report"
      ],
      "execution_count": null,
      "outputs": []
    },
    {
      "cell_type": "code",
      "metadata": {
        "id": "3P3ZCfWycUsv"
      },
      "source": [
        "log_clf = LogisticRegression(random_state=0, max_iter=10000)\n",
        "linear_svm = LinearSVC(random_state=0, max_iter=10000)\n",
        "tree = DecisionTreeClassifier(random_state=0)"
      ],
      "execution_count": null,
      "outputs": []
    },
    {
      "cell_type": "code",
      "metadata": {
        "colab": {
          "base_uri": "https://localhost:8080/"
        },
        "id": "R8Ug0ZO2cna2",
        "outputId": "5c75d433-b085-4772-cfad-fd0c5a978a82"
      },
      "source": [
        "_ = log_clf.fit(X_train_ros, y_train_ros)\n",
        "y_pred = log_clf.predict(X_test_transformed)\n",
        "target_names = ['No', 'Yes']\n",
        "print(classification_report(y_test, y_pred, target_names=target_names))"
      ],
      "execution_count": null,
      "outputs": [
        {
          "output_type": "stream",
          "text": [
            "              precision    recall  f1-score   support\n",
            "\n",
            "          No       0.93      0.80      0.86     22067\n",
            "         Yes       0.53      0.78      0.63      6372\n",
            "\n",
            "    accuracy                           0.80     28439\n",
            "   macro avg       0.73      0.79      0.75     28439\n",
            "weighted avg       0.84      0.80      0.81     28439\n",
            "\n"
          ],
          "name": "stdout"
        }
      ]
    },
    {
      "cell_type": "code",
      "metadata": {
        "colab": {
          "base_uri": "https://localhost:8080/"
        },
        "id": "iBdeQd4ncw2T",
        "outputId": "8b8a8128-468b-409d-e86f-558893ed6848"
      },
      "source": [
        "_ = linear_svm.fit(X_train_ros, y_train_ros)\n",
        "y_pred = linear_svm.predict(X_test_transformed)\n",
        "target_names = ['No', 'Yes']\n",
        "print(classification_report(y_test, y_pred, target_names=target_names))"
      ],
      "execution_count": null,
      "outputs": [
        {
          "output_type": "stream",
          "text": [
            "              precision    recall  f1-score   support\n",
            "\n",
            "          No       0.93      0.81      0.86     22067\n",
            "         Yes       0.54      0.78      0.64      6372\n",
            "\n",
            "    accuracy                           0.80     28439\n",
            "   macro avg       0.73      0.79      0.75     28439\n",
            "weighted avg       0.84      0.80      0.81     28439\n",
            "\n"
          ],
          "name": "stdout"
        }
      ]
    },
    {
      "cell_type": "code",
      "metadata": {
        "colab": {
          "base_uri": "https://localhost:8080/"
        },
        "id": "3D0ElTjQc9aW",
        "outputId": "a9648069-c312-4d71-b55e-22eb13078a90"
      },
      "source": [
        "_ = tree.fit(X_train_ros, y_train_ros)\n",
        "y_pred = tree.predict(X_test_transformed)\n",
        "target_names = ['No', 'Yes']\n",
        "print(classification_report(y_test, y_pred, target_names=target_names))"
      ],
      "execution_count": null,
      "outputs": [
        {
          "output_type": "stream",
          "text": [
            "              precision    recall  f1-score   support\n",
            "\n",
            "          No       0.87      0.87      0.87     22067\n",
            "         Yes       0.54      0.54      0.54      6372\n",
            "\n",
            "    accuracy                           0.79     28439\n",
            "   macro avg       0.70      0.70      0.70     28439\n",
            "weighted avg       0.79      0.79      0.79     28439\n",
            "\n"
          ],
          "name": "stdout"
        }
      ]
    },
    {
      "cell_type": "markdown",
      "metadata": {
        "id": "vlPORMu0e9Av"
      },
      "source": [
        "##### 3:4 ratio"
      ]
    },
    {
      "cell_type": "code",
      "metadata": {
        "colab": {
          "base_uri": "https://localhost:8080/"
        },
        "id": "y0_uKLmWfFWQ",
        "outputId": "b24e5083-ad0c-4e2e-ca66-f028294b1907"
      },
      "source": [
        "ros = RandomOverSampler(random_state=0, sampling_strategy=.75)\n",
        "X_train_ros_34, y_train_ros_34 = ros.fit_sample(X_train_transformed, y_train)"
      ],
      "execution_count": null,
      "outputs": [
        {
          "output_type": "stream",
          "text": [
            "/usr/local/lib/python3.7/dist-packages/sklearn/utils/deprecation.py:87: FutureWarning: Function safe_indexing is deprecated; safe_indexing is deprecated in version 0.22 and will be removed in version 0.24.\n",
            "  warnings.warn(msg, category=FutureWarning)\n"
          ],
          "name": "stderr"
        }
      ]
    },
    {
      "cell_type": "code",
      "metadata": {
        "colab": {
          "base_uri": "https://localhost:8080/"
        },
        "id": "Xqxi8uqRfv2P",
        "outputId": "8c435bef-7d25-458c-d1ff-60941d0912a3"
      },
      "source": [
        "fit_and_evaluate(LogisticRegression(random_state=0, max_iter=10000), X_train_ros_34, y_train_ros_34, X_test_transformed, y_test)\n",
        "fit_and_evaluate(LinearSVC(random_state=0, max_iter=10000), X_train_ros_34, y_train_ros_34, X_test_transformed, y_test)\n",
        "fit_and_evaluate(DecisionTreeClassifier(random_state=0), X_train_ros_34, y_train_ros_34, X_test_transformed, y_test)"
      ],
      "execution_count": null,
      "outputs": [
        {
          "output_type": "stream",
          "text": [
            "LogisticRegression(C=1.0, class_weight=None, dual=False, fit_intercept=True,\n",
            "                   intercept_scaling=1, l1_ratio=None, max_iter=10000,\n",
            "                   multi_class='auto', n_jobs=None, penalty='l2',\n",
            "                   random_state=0, solver='lbfgs', tol=0.0001, verbose=0,\n",
            "                   warm_start=False)\n",
            "              precision    recall  f1-score   support\n",
            "\n",
            "          No       0.92      0.85      0.88     22067\n",
            "         Yes       0.58      0.73      0.65      6372\n",
            "\n",
            "    accuracy                           0.82     28439\n",
            "   macro avg       0.75      0.79      0.76     28439\n",
            "weighted avg       0.84      0.82      0.83     28439\n",
            "\n",
            "LinearSVC(C=1.0, class_weight=None, dual=True, fit_intercept=True,\n",
            "          intercept_scaling=1, loss='squared_hinge', max_iter=10000,\n",
            "          multi_class='ovr', penalty='l2', random_state=0, tol=0.0001,\n",
            "          verbose=0)\n",
            "              precision    recall  f1-score   support\n",
            "\n",
            "          No       0.91      0.85      0.88     22067\n",
            "         Yes       0.59      0.72      0.65      6372\n",
            "\n",
            "    accuracy                           0.82     28439\n",
            "   macro avg       0.75      0.79      0.76     28439\n",
            "weighted avg       0.84      0.82      0.83     28439\n",
            "\n",
            "DecisionTreeClassifier(ccp_alpha=0.0, class_weight=None, criterion='gini',\n",
            "                       max_depth=None, max_features=None, max_leaf_nodes=None,\n",
            "                       min_impurity_decrease=0.0, min_impurity_split=None,\n",
            "                       min_samples_leaf=1, min_samples_split=2,\n",
            "                       min_weight_fraction_leaf=0.0, presort='deprecated',\n",
            "                       random_state=0, splitter='best')\n",
            "              precision    recall  f1-score   support\n",
            "\n",
            "          No       0.87      0.87      0.87     22067\n",
            "         Yes       0.54      0.54      0.54      6372\n",
            "\n",
            "    accuracy                           0.79     28439\n",
            "   macro avg       0.70      0.70      0.70     28439\n",
            "weighted avg       0.79      0.79      0.79     28439\n",
            "\n"
          ],
          "name": "stdout"
        }
      ]
    },
    {
      "cell_type": "markdown",
      "metadata": {
        "id": "vs2kaSO6k0gX"
      },
      "source": [
        "##### 2:3 ratio "
      ]
    },
    {
      "cell_type": "code",
      "metadata": {
        "colab": {
          "base_uri": "https://localhost:8080/"
        },
        "id": "ObN3P73uk3LD",
        "outputId": "09160eb6-ff50-4d01-97f4-baf975e0d999"
      },
      "source": [
        "X_train_ros_23, y_train_ros_23 = random_oversample(X_train_transformed, y_train, ratio=2/3)\n",
        "# fit_and_evaluate(LogisticRegression(random_state=0, max_iter=10000), X_train_ros_23, y_train_ros_23, X_test_transformed, y_test)\n",
        "# fit_and_evaluate(LinearSVC(random_state=0, max_iter=10000), X_train_ros_23, y_train_ros_23, X_test_transformed, y_test)\n",
        "# fit_and_evaluate(DecisionTreeClassifier(random_state=0), X_train_ros_23, y_train_ros_23, X_test_transformed, y_test)"
      ],
      "execution_count": null,
      "outputs": [
        {
          "output_type": "stream",
          "text": [
            "/usr/local/lib/python3.7/dist-packages/sklearn/utils/deprecation.py:87: FutureWarning: Function safe_indexing is deprecated; safe_indexing is deprecated in version 0.22 and will be removed in version 0.24.\n",
            "  warnings.warn(msg, category=FutureWarning)\n"
          ],
          "name": "stderr"
        }
      ]
    },
    {
      "cell_type": "markdown",
      "metadata": {
        "id": "EpG_5USoleRv"
      },
      "source": [
        "##### 1:2 ratio"
      ]
    },
    {
      "cell_type": "code",
      "metadata": {
        "colab": {
          "base_uri": "https://localhost:8080/"
        },
        "id": "97Ya6n7blgz1",
        "outputId": "5eb84fb1-f9bf-4108-a160-6813ccff7caf"
      },
      "source": [
        "X_train_ros_12, y_train_ros_12 = random_oversample(X_train_transformed, y_train, ratio=0.5)\n",
        "# fit_and_evaluate(LogisticRegression(random_state=0, max_iter=10000), X_train_ros_23, y_train_ros_23, X_test_transformed, y_test)\n",
        "# fit_and_evaluate(LinearSVC(random_state=0, max_iter=10000), X_train_ros_23, y_train_ros_23, X_test_transformed, y_test)\n",
        "# fit_and_evaluate(DecisionTreeClassifier(random_state=0), X_train_ros_23, y_train_ros_23, X_test_transformed, y_test)"
      ],
      "execution_count": null,
      "outputs": [
        {
          "output_type": "stream",
          "text": [
            "/usr/local/lib/python3.7/dist-packages/sklearn/utils/deprecation.py:87: FutureWarning: Function safe_indexing is deprecated; safe_indexing is deprecated in version 0.22 and will be removed in version 0.24.\n",
            "  warnings.warn(msg, category=FutureWarning)\n"
          ],
          "name": "stderr"
        }
      ]
    },
    {
      "cell_type": "markdown",
      "metadata": {
        "id": "U-aXxp7gvAS4"
      },
      "source": [
        "#### SMOTE \n",
        "\n"
      ]
    },
    {
      "cell_type": "markdown",
      "metadata": {
        "id": "6irsnRNx0yVo"
      },
      "source": [
        "##### 1:1"
      ]
    },
    {
      "cell_type": "code",
      "metadata": {
        "colab": {
          "base_uri": "https://localhost:8080/"
        },
        "id": "h0hqhFKN0167",
        "outputId": "d4adf557-9db9-4f9c-9eed-a7657c06aa75"
      },
      "source": [
        "X_train_smote_11, y_train_smote_11 = SMOTE_oversample(X_train_transformed, y_train)\n"
      ],
      "execution_count": null,
      "outputs": [
        {
          "output_type": "stream",
          "text": [
            "/usr/local/lib/python3.7/dist-packages/sklearn/utils/deprecation.py:87: FutureWarning: Function safe_indexing is deprecated; safe_indexing is deprecated in version 0.22 and will be removed in version 0.24.\n",
            "  warnings.warn(msg, category=FutureWarning)\n"
          ],
          "name": "stderr"
        }
      ]
    },
    {
      "cell_type": "code",
      "metadata": {
        "colab": {
          "base_uri": "https://localhost:8080/"
        },
        "id": "8QO5Epiq99AH",
        "outputId": "bb210e51-5c0b-4090-b9e4-61c8a82677e7"
      },
      "source": [
        "fit_and_evaluate(LogisticRegression(random_state=0, max_iter=10000), X_train_smote_11, y_train_smote_11, X_test_transformed, y_test)\n",
        "fit_and_evaluate(LinearSVC(random_state=0, max_iter=10000), X_train_smote_11, y_train_smote_11, X_test_transformed, y_test)\n",
        "fit_and_evaluate(DecisionTreeClassifier(random_state=0), X_train_smote_11, y_train_smote_11, X_test_transformed, y_test)"
      ],
      "execution_count": null,
      "outputs": [
        {
          "output_type": "stream",
          "text": [
            "LogisticRegression(C=1.0, class_weight=None, dual=False, fit_intercept=True,\n",
            "                   intercept_scaling=1, l1_ratio=None, max_iter=10000,\n",
            "                   multi_class='auto', n_jobs=None, penalty='l2',\n",
            "                   random_state=0, solver='lbfgs', tol=0.0001, verbose=0,\n",
            "                   warm_start=False)\n",
            "              precision    recall  f1-score   support\n",
            "\n",
            "          No       0.92      0.81      0.86     22067\n",
            "         Yes       0.53      0.77      0.63      6372\n",
            "\n",
            "    accuracy                           0.80     28439\n",
            "   macro avg       0.73      0.79      0.75     28439\n",
            "weighted avg       0.84      0.80      0.81     28439\n",
            "\n",
            "LinearSVC(C=1.0, class_weight=None, dual=True, fit_intercept=True,\n",
            "          intercept_scaling=1, loss='squared_hinge', max_iter=10000,\n",
            "          multi_class='ovr', penalty='l2', random_state=0, tol=0.0001,\n",
            "          verbose=0)\n",
            "              precision    recall  f1-score   support\n",
            "\n",
            "          No       0.92      0.81      0.86     22067\n",
            "         Yes       0.54      0.77      0.63      6372\n",
            "\n",
            "    accuracy                           0.80     28439\n",
            "   macro avg       0.73      0.79      0.75     28439\n",
            "weighted avg       0.84      0.80      0.81     28439\n",
            "\n",
            "DecisionTreeClassifier(ccp_alpha=0.0, class_weight=None, criterion='gini',\n",
            "                       max_depth=None, max_features=None, max_leaf_nodes=None,\n",
            "                       min_impurity_decrease=0.0, min_impurity_split=None,\n",
            "                       min_samples_leaf=1, min_samples_split=2,\n",
            "                       min_weight_fraction_leaf=0.0, presort='deprecated',\n",
            "                       random_state=0, splitter='best')\n",
            "              precision    recall  f1-score   support\n",
            "\n",
            "          No       0.87      0.83      0.85     22067\n",
            "         Yes       0.50      0.59      0.54      6372\n",
            "\n",
            "    accuracy                           0.77     28439\n",
            "   macro avg       0.69      0.71      0.69     28439\n",
            "weighted avg       0.79      0.77      0.78     28439\n",
            "\n"
          ],
          "name": "stdout"
        }
      ]
    },
    {
      "cell_type": "markdown",
      "metadata": {
        "id": "Pu7iOFhz_23f"
      },
      "source": [
        "##### 3:4 ratio"
      ]
    },
    {
      "cell_type": "code",
      "metadata": {
        "colab": {
          "base_uri": "https://localhost:8080/"
        },
        "id": "FSNMfIiiADvJ",
        "outputId": "cd2c9aee-c5ec-4fbd-f9d3-0c7fd0be8ad0"
      },
      "source": [
        "X_train_smote_34, y_train_smote_34 = SMOTE_oversample(X_train_transformed, y_train, ratio=3/4)\n"
      ],
      "execution_count": null,
      "outputs": [
        {
          "output_type": "stream",
          "text": [
            "/usr/local/lib/python3.7/dist-packages/sklearn/utils/deprecation.py:87: FutureWarning: Function safe_indexing is deprecated; safe_indexing is deprecated in version 0.22 and will be removed in version 0.24.\n",
            "  warnings.warn(msg, category=FutureWarning)\n"
          ],
          "name": "stderr"
        }
      ]
    },
    {
      "cell_type": "code",
      "metadata": {
        "colab": {
          "base_uri": "https://localhost:8080/"
        },
        "id": "X4IRG2xbAH-a",
        "outputId": "31b44bf7-894d-4581-da87-41e2e1e3c6e6"
      },
      "source": [
        "fit_and_evaluate(LogisticRegression(random_state=0, max_iter=10000), X_train_smote_34, y_train_smote_34, X_test_transformed, y_test)\n",
        "fit_and_evaluate(LinearSVC(random_state=0, max_iter=10000), X_train_smote_34, y_train_smote_34, X_test_transformed, y_test)\n",
        "fit_and_evaluate(DecisionTreeClassifier(random_state=0), X_train_smote_34, y_train_smote_34, X_test_transformed, y_test)"
      ],
      "execution_count": null,
      "outputs": [
        {
          "output_type": "stream",
          "text": [
            "LogisticRegression(C=1.0, class_weight=None, dual=False, fit_intercept=True,\n",
            "                   intercept_scaling=1, l1_ratio=None, max_iter=10000,\n",
            "                   multi_class='auto', n_jobs=None, penalty='l2',\n",
            "                   random_state=0, solver='lbfgs', tol=0.0001, verbose=0,\n",
            "                   warm_start=False)\n",
            "              precision    recall  f1-score   support\n",
            "\n",
            "          No       0.91      0.85      0.88     22067\n",
            "         Yes       0.58      0.72      0.65      6372\n",
            "\n",
            "    accuracy                           0.82     28439\n",
            "   macro avg       0.75      0.79      0.76     28439\n",
            "weighted avg       0.84      0.82      0.83     28439\n",
            "\n",
            "LinearSVC(C=1.0, class_weight=None, dual=True, fit_intercept=True,\n",
            "          intercept_scaling=1, loss='squared_hinge', max_iter=10000,\n",
            "          multi_class='ovr', penalty='l2', random_state=0, tol=0.0001,\n",
            "          verbose=0)\n",
            "              precision    recall  f1-score   support\n",
            "\n",
            "          No       0.91      0.85      0.88     22067\n",
            "         Yes       0.58      0.72      0.65      6372\n",
            "\n",
            "    accuracy                           0.82     28439\n",
            "   macro avg       0.75      0.79      0.76     28439\n",
            "weighted avg       0.84      0.82      0.83     28439\n",
            "\n",
            "DecisionTreeClassifier(ccp_alpha=0.0, class_weight=None, criterion='gini',\n",
            "                       max_depth=None, max_features=None, max_leaf_nodes=None,\n",
            "                       min_impurity_decrease=0.0, min_impurity_split=None,\n",
            "                       min_samples_leaf=1, min_samples_split=2,\n",
            "                       min_weight_fraction_leaf=0.0, presort='deprecated',\n",
            "                       random_state=0, splitter='best')\n",
            "              precision    recall  f1-score   support\n",
            "\n",
            "          No       0.87      0.83      0.85     22067\n",
            "         Yes       0.50      0.59      0.54      6372\n",
            "\n",
            "    accuracy                           0.78     28439\n",
            "   macro avg       0.69      0.71      0.70     28439\n",
            "weighted avg       0.79      0.78      0.78     28439\n",
            "\n"
          ],
          "name": "stdout"
        }
      ]
    },
    {
      "cell_type": "markdown",
      "metadata": {
        "id": "E8MEVyCf_6mr"
      },
      "source": [
        "##### 2:3 ratio"
      ]
    },
    {
      "cell_type": "code",
      "metadata": {
        "colab": {
          "base_uri": "https://localhost:8080/"
        },
        "id": "ztimdM4lAUhJ",
        "outputId": "f18135f3-4eac-4fb1-ad43-7814405a3c5c"
      },
      "source": [
        "X_train_smote_23, y_train_smote_23 = SMOTE_oversample(X_train_transformed, y_train, ratio=2/3)\n"
      ],
      "execution_count": null,
      "outputs": [
        {
          "output_type": "stream",
          "text": [
            "/usr/local/lib/python3.7/dist-packages/sklearn/utils/deprecation.py:87: FutureWarning: Function safe_indexing is deprecated; safe_indexing is deprecated in version 0.22 and will be removed in version 0.24.\n",
            "  warnings.warn(msg, category=FutureWarning)\n"
          ],
          "name": "stderr"
        }
      ]
    },
    {
      "cell_type": "code",
      "metadata": {
        "colab": {
          "base_uri": "https://localhost:8080/"
        },
        "id": "DwjdWMVaAWbA",
        "outputId": "464fa377-1dda-4ea7-9552-0951d78b3b1f"
      },
      "source": [
        "fit_and_evaluate(LogisticRegression(random_state=0, max_iter=10000), X_train_smote_23, y_train_smote_23, X_test_transformed, y_test)\n",
        "fit_and_evaluate(LinearSVC(random_state=0, max_iter=10000), X_train_smote_23, y_train_smote_23, X_test_transformed, y_test)\n",
        "fit_and_evaluate(DecisionTreeClassifier(random_state=0), X_train_smote_23, y_train_smote_23, X_test_transformed, y_test)"
      ],
      "execution_count": null,
      "outputs": [
        {
          "output_type": "stream",
          "text": [
            "LogisticRegression(C=1.0, class_weight=None, dual=False, fit_intercept=True,\n",
            "                   intercept_scaling=1, l1_ratio=None, max_iter=10000,\n",
            "                   multi_class='auto', n_jobs=None, penalty='l2',\n",
            "                   random_state=0, solver='lbfgs', tol=0.0001, verbose=0,\n",
            "                   warm_start=False)\n",
            "              precision    recall  f1-score   support\n",
            "\n",
            "          No       0.91      0.86      0.89     22067\n",
            "         Yes       0.60      0.70      0.65      6372\n",
            "\n",
            "    accuracy                           0.83     28439\n",
            "   macro avg       0.75      0.78      0.77     28439\n",
            "weighted avg       0.84      0.83      0.83     28439\n",
            "\n",
            "LinearSVC(C=1.0, class_weight=None, dual=True, fit_intercept=True,\n",
            "          intercept_scaling=1, loss='squared_hinge', max_iter=10000,\n",
            "          multi_class='ovr', penalty='l2', random_state=0, tol=0.0001,\n",
            "          verbose=0)\n",
            "              precision    recall  f1-score   support\n",
            "\n",
            "          No       0.91      0.87      0.89     22067\n",
            "         Yes       0.60      0.70      0.65      6372\n",
            "\n",
            "    accuracy                           0.83     28439\n",
            "   macro avg       0.76      0.78      0.77     28439\n",
            "weighted avg       0.84      0.83      0.83     28439\n",
            "\n",
            "DecisionTreeClassifier(ccp_alpha=0.0, class_weight=None, criterion='gini',\n",
            "                       max_depth=None, max_features=None, max_leaf_nodes=None,\n",
            "                       min_impurity_decrease=0.0, min_impurity_split=None,\n",
            "                       min_samples_leaf=1, min_samples_split=2,\n",
            "                       min_weight_fraction_leaf=0.0, presort='deprecated',\n",
            "                       random_state=0, splitter='best')\n",
            "              precision    recall  f1-score   support\n",
            "\n",
            "          No       0.87      0.84      0.86     22067\n",
            "         Yes       0.52      0.58      0.55      6372\n",
            "\n",
            "    accuracy                           0.78     28439\n",
            "   macro avg       0.69      0.71      0.70     28439\n",
            "weighted avg       0.79      0.78      0.79     28439\n",
            "\n"
          ],
          "name": "stdout"
        }
      ]
    },
    {
      "cell_type": "markdown",
      "metadata": {
        "id": "O-cRaN8G_83E"
      },
      "source": [
        "##### 1:2 ratio"
      ]
    },
    {
      "cell_type": "code",
      "metadata": {
        "colab": {
          "base_uri": "https://localhost:8080/"
        },
        "id": "Q2eQaYopAjXw",
        "outputId": "5cdb6271-e7a5-4c16-a3d7-1d6eca9c14db"
      },
      "source": [
        "X_train_smote_12, y_train_smote_12 = SMOTE_oversample(X_train_transformed, y_train, ratio=0.5)\n"
      ],
      "execution_count": null,
      "outputs": [
        {
          "output_type": "stream",
          "text": [
            "/usr/local/lib/python3.7/dist-packages/sklearn/utils/deprecation.py:87: FutureWarning: Function safe_indexing is deprecated; safe_indexing is deprecated in version 0.22 and will be removed in version 0.24.\n",
            "  warnings.warn(msg, category=FutureWarning)\n"
          ],
          "name": "stderr"
        }
      ]
    },
    {
      "cell_type": "code",
      "metadata": {
        "colab": {
          "base_uri": "https://localhost:8080/"
        },
        "id": "5-jKdtJ-AmcU",
        "outputId": "3a7294ee-1eeb-4e42-e742-5fc8bd3f2a28"
      },
      "source": [
        "fit_and_evaluate(LogisticRegression(random_state=0, max_iter=10000), X_train_smote_12, y_train_smote_12, X_test_transformed, y_test)\n",
        "fit_and_evaluate(LinearSVC(random_state=0, max_iter=10000), X_train_smote_12, y_train_smote_12, X_test_transformed, y_test)\n",
        "fit_and_evaluate(DecisionTreeClassifier(random_state=0), X_train_smote_12, y_train_smote_12, X_test_transformed, y_test)"
      ],
      "execution_count": null,
      "outputs": [
        {
          "output_type": "stream",
          "text": [
            "LogisticRegression(C=1.0, class_weight=None, dual=False, fit_intercept=True,\n",
            "                   intercept_scaling=1, l1_ratio=None, max_iter=10000,\n",
            "                   multi_class='auto', n_jobs=None, penalty='l2',\n",
            "                   random_state=0, solver='lbfgs', tol=0.0001, verbose=0,\n",
            "                   warm_start=False)\n",
            "              precision    recall  f1-score   support\n",
            "\n",
            "          No       0.90      0.90      0.90     22067\n",
            "         Yes       0.65      0.64      0.64      6372\n",
            "\n",
            "    accuracy                           0.84     28439\n",
            "   macro avg       0.77      0.77      0.77     28439\n",
            "weighted avg       0.84      0.84      0.84     28439\n",
            "\n",
            "LinearSVC(C=1.0, class_weight=None, dual=True, fit_intercept=True,\n",
            "          intercept_scaling=1, loss='squared_hinge', max_iter=10000,\n",
            "          multi_class='ovr', penalty='l2', random_state=0, tol=0.0001,\n",
            "          verbose=0)\n",
            "              precision    recall  f1-score   support\n",
            "\n",
            "          No       0.89      0.90      0.90     22067\n",
            "         Yes       0.65      0.63      0.64      6372\n",
            "\n",
            "    accuracy                           0.84     28439\n",
            "   macro avg       0.77      0.77      0.77     28439\n",
            "weighted avg       0.84      0.84      0.84     28439\n",
            "\n",
            "DecisionTreeClassifier(ccp_alpha=0.0, class_weight=None, criterion='gini',\n",
            "                       max_depth=None, max_features=None, max_leaf_nodes=None,\n",
            "                       min_impurity_decrease=0.0, min_impurity_split=None,\n",
            "                       min_samples_leaf=1, min_samples_split=2,\n",
            "                       min_weight_fraction_leaf=0.0, presort='deprecated',\n",
            "                       random_state=0, splitter='best')\n",
            "              precision    recall  f1-score   support\n",
            "\n",
            "          No       0.87      0.84      0.86     22067\n",
            "         Yes       0.52      0.58      0.55      6372\n",
            "\n",
            "    accuracy                           0.78     28439\n",
            "   macro avg       0.70      0.71      0.70     28439\n",
            "weighted avg       0.79      0.78      0.79     28439\n",
            "\n"
          ],
          "name": "stdout"
        }
      ]
    },
    {
      "cell_type": "code",
      "metadata": {
        "colab": {
          "base_uri": "https://localhost:8080/"
        },
        "id": "O2FyviNREbGL",
        "outputId": "50eb6052-6ff3-4036-c408-06f140a609fd"
      },
      "source": [
        "#1:1 ratio\n",
        "y_pred = log_clf.predict(X_test_transformed)\n",
        "target_names = ['No', 'Yes']\n",
        "print(classification_report(y_test, y_pred, target_names=target_names))"
      ],
      "execution_count": null,
      "outputs": [
        {
          "output_type": "stream",
          "text": [
            "              precision    recall  f1-score   support\n",
            "\n",
            "          No       0.92      0.80      0.86     22067\n",
            "         Yes       0.53      0.77      0.63      6372\n",
            "\n",
            "    accuracy                           0.80     28439\n",
            "   macro avg       0.73      0.79      0.75     28439\n",
            "weighted avg       0.84      0.80      0.81     28439\n",
            "\n"
          ],
          "name": "stdout"
        }
      ]
    },
    {
      "cell_type": "code",
      "metadata": {
        "colab": {
          "base_uri": "https://localhost:8080/"
        },
        "id": "f3TTGWKU2BQq",
        "outputId": "bc4cbe75-eac9-43a3-cd43-53ef4402457e"
      },
      "source": [
        "#1:3 ratio\n",
        "y_pred = log_clf.predict(X_test_transformed)\n",
        "target_names = ['No', 'Yes']\n",
        "print(classification_report(y_test, y_pred, target_names=target_names))"
      ],
      "execution_count": null,
      "outputs": [
        {
          "output_type": "stream",
          "text": [
            "              precision    recall  f1-score   support\n",
            "\n",
            "          No       0.88      0.94      0.91     22067\n",
            "         Yes       0.71      0.55      0.62      6372\n",
            "\n",
            "    accuracy                           0.85     28439\n",
            "   macro avg       0.80      0.74      0.76     28439\n",
            "weighted avg       0.84      0.85      0.84     28439\n",
            "\n"
          ],
          "name": "stdout"
        }
      ]
    },
    {
      "cell_type": "code",
      "metadata": {
        "colab": {
          "base_uri": "https://localhost:8080/"
        },
        "id": "US_H6-p0_hUm",
        "outputId": "e8c3b1bf-5efa-4f7c-8af7-e7b85e7b0745"
      },
      "source": [
        "#1:2 ratio\n",
        "y_pred = log_clf.predict(X_test_transformed)\n",
        "target_names = ['No', 'Yes']\n",
        "print(classification_report(y_test, y_pred, target_names=target_names))"
      ],
      "execution_count": null,
      "outputs": [
        {
          "output_type": "stream",
          "text": [
            "              precision    recall  f1-score   support\n",
            "\n",
            "          No       0.90      0.90      0.90     22067\n",
            "         Yes       0.65      0.64      0.64      6372\n",
            "\n",
            "    accuracy                           0.84     28439\n",
            "   macro avg       0.77      0.77      0.77     28439\n",
            "weighted avg       0.84      0.84      0.84     28439\n",
            "\n"
          ],
          "name": "stdout"
        }
      ]
    },
    {
      "cell_type": "code",
      "metadata": {
        "colab": {
          "base_uri": "https://localhost:8080/"
        },
        "id": "kPCnuE4OMQoC",
        "outputId": "35357849-a839-49e8-d2e6-54adaed0fd11"
      },
      "source": [
        "#2:3 ratio\n",
        "y_pred = log_clf.predict(X_test_transformed)\n",
        "target_names = ['No', 'Yes']\n",
        "print(classification_report(y_test, y_pred, target_names=target_names))"
      ],
      "execution_count": null,
      "outputs": [
        {
          "output_type": "stream",
          "text": [
            "              precision    recall  f1-score   support\n",
            "\n",
            "          No       0.91      0.86      0.89     22067\n",
            "         Yes       0.60      0.70      0.65      6372\n",
            "\n",
            "    accuracy                           0.83     28439\n",
            "   macro avg       0.75      0.78      0.77     28439\n",
            "weighted avg       0.84      0.83      0.83     28439\n",
            "\n"
          ],
          "name": "stdout"
        }
      ]
    },
    {
      "cell_type": "code",
      "metadata": {
        "colab": {
          "base_uri": "https://localhost:8080/"
        },
        "id": "3i76ePsRBk4X",
        "outputId": "5fb10662-91d5-4aef-97d4-7e58a9b2d496"
      },
      "source": [
        "log_clf.score(X_test_transformed, y_test)"
      ],
      "execution_count": null,
      "outputs": [
        {
          "output_type": "execute_result",
          "data": {
            "text/plain": [
              "0.8280530257744646"
            ]
          },
          "metadata": {
            "tags": []
          },
          "execution_count": 50
        }
      ]
    },
    {
      "cell_type": "markdown",
      "metadata": {
        "id": "t9hONxbS2kOW"
      },
      "source": [
        "### Undersampling"
      ]
    },
    {
      "cell_type": "markdown",
      "metadata": {
        "id": "EgS8nxrIDx_R"
      },
      "source": [
        "#### Controlled Undersampling"
      ]
    },
    {
      "cell_type": "markdown",
      "metadata": {
        "id": "qnZlckjjEjR6"
      },
      "source": [
        "##### 1:1 ratio"
      ]
    },
    {
      "cell_type": "code",
      "metadata": {
        "colab": {
          "base_uri": "https://localhost:8080/"
        },
        "id": "-PCGf_qYElc2",
        "outputId": "643125a5-aaf6-4738-8882-d2392046d434"
      },
      "source": [
        "X_train_rus_11, y_train_rus_11 = random_undersample(X_train_transformed, y_train) "
      ],
      "execution_count": null,
      "outputs": [
        {
          "output_type": "stream",
          "text": [
            "/usr/local/lib/python3.7/dist-packages/sklearn/utils/deprecation.py:87: FutureWarning: Function safe_indexing is deprecated; safe_indexing is deprecated in version 0.22 and will be removed in version 0.24.\n",
            "  warnings.warn(msg, category=FutureWarning)\n"
          ],
          "name": "stderr"
        }
      ]
    },
    {
      "cell_type": "code",
      "metadata": {
        "colab": {
          "base_uri": "https://localhost:8080/"
        },
        "id": "hkoqV1kjEv9n",
        "outputId": "66e49152-c698-4623-fa69-58642b7ff7da"
      },
      "source": [
        "pd.Series(y_train_rus_11).value_counts()"
      ],
      "execution_count": null,
      "outputs": [
        {
          "output_type": "execute_result",
          "data": {
            "text/plain": [
              "1    25505\n",
              "0    25505\n",
              "dtype: int64"
            ]
          },
          "metadata": {
            "tags": []
          },
          "execution_count": 80
        }
      ]
    },
    {
      "cell_type": "code",
      "metadata": {
        "colab": {
          "base_uri": "https://localhost:8080/"
        },
        "id": "exchx-GFE0fY",
        "outputId": "0d6e6ae1-8096-4763-93ab-ace5fe077748"
      },
      "source": [
        "fit_and_evaluate(LogisticRegression(random_state=0, max_iter=10000), X_train_rus_11, y_train_rus_11, X_test_transformed, y_test)\n",
        "fit_and_evaluate(LinearSVC(random_state=0, max_iter=10000), X_train_rus_11, y_train_rus_11, X_test_transformed, y_test)\n",
        "fit_and_evaluate(DecisionTreeClassifier(random_state=0), X_train_rus_11, y_train_rus_11, X_test_transformed, y_test)"
      ],
      "execution_count": null,
      "outputs": [
        {
          "output_type": "stream",
          "text": [
            "LogisticRegression(C=1.0, class_weight=None, dual=False, fit_intercept=True,\n",
            "                   intercept_scaling=1, l1_ratio=None, max_iter=10000,\n",
            "                   multi_class='auto', n_jobs=None, penalty='l2',\n",
            "                   random_state=0, solver='lbfgs', tol=0.0001, verbose=0,\n",
            "                   warm_start=False)\n",
            "              precision    recall  f1-score   support\n",
            "\n",
            "          No       0.93      0.80      0.86     22067\n",
            "         Yes       0.53      0.78      0.63      6372\n",
            "\n",
            "    accuracy                           0.80     28439\n",
            "   macro avg       0.73      0.79      0.75     28439\n",
            "weighted avg       0.84      0.80      0.81     28439\n",
            "\n",
            "LinearSVC(C=1.0, class_weight=None, dual=True, fit_intercept=True,\n",
            "          intercept_scaling=1, loss='squared_hinge', max_iter=10000,\n",
            "          multi_class='ovr', penalty='l2', random_state=0, tol=0.0001,\n",
            "          verbose=0)\n",
            "              precision    recall  f1-score   support\n",
            "\n",
            "          No       0.93      0.81      0.86     22067\n",
            "         Yes       0.54      0.78      0.63      6372\n",
            "\n",
            "    accuracy                           0.80     28439\n",
            "   macro avg       0.73      0.79      0.75     28439\n",
            "weighted avg       0.84      0.80      0.81     28439\n",
            "\n",
            "DecisionTreeClassifier(ccp_alpha=0.0, class_weight=None, criterion='gini',\n",
            "                       max_depth=None, max_features=None, max_leaf_nodes=None,\n",
            "                       min_impurity_decrease=0.0, min_impurity_split=None,\n",
            "                       min_samples_leaf=1, min_samples_split=2,\n",
            "                       min_weight_fraction_leaf=0.0, presort='deprecated',\n",
            "                       random_state=0, splitter='best')\n",
            "              precision    recall  f1-score   support\n",
            "\n",
            "          No       0.90      0.72      0.80     22067\n",
            "         Yes       0.43      0.71      0.53      6372\n",
            "\n",
            "    accuracy                           0.72     28439\n",
            "   macro avg       0.66      0.72      0.67     28439\n",
            "weighted avg       0.79      0.72      0.74     28439\n",
            "\n"
          ],
          "name": "stdout"
        }
      ]
    },
    {
      "cell_type": "markdown",
      "metadata": {
        "id": "q94_5pFEFDdq"
      },
      "source": [
        "##### 3:4 ratio"
      ]
    },
    {
      "cell_type": "code",
      "metadata": {
        "colab": {
          "base_uri": "https://localhost:8080/"
        },
        "id": "GE9b3WEkFKuJ",
        "outputId": "37f2e40a-4cb1-4f6c-d365-16812dcd5f97"
      },
      "source": [
        "X_train_rus_34, y_train_rus_34 = random_undersample(X_train_transformed, y_train, ratio=0.75) "
      ],
      "execution_count": null,
      "outputs": [
        {
          "output_type": "stream",
          "text": [
            "/usr/local/lib/python3.7/dist-packages/sklearn/utils/deprecation.py:87: FutureWarning: Function safe_indexing is deprecated; safe_indexing is deprecated in version 0.22 and will be removed in version 0.24.\n",
            "  warnings.warn(msg, category=FutureWarning)\n"
          ],
          "name": "stderr"
        }
      ]
    },
    {
      "cell_type": "code",
      "metadata": {
        "colab": {
          "base_uri": "https://localhost:8080/"
        },
        "id": "gUdXNwmwFL5a",
        "outputId": "92e447a8-14fc-4937-8639-e2fcc7a0da2a"
      },
      "source": [
        "pd.Series(y_train_rus_34).value_counts()"
      ],
      "execution_count": null,
      "outputs": [
        {
          "output_type": "execute_result",
          "data": {
            "text/plain": [
              "0    34006\n",
              "1    25505\n",
              "dtype: int64"
            ]
          },
          "metadata": {
            "tags": []
          },
          "execution_count": 83
        }
      ]
    },
    {
      "cell_type": "code",
      "metadata": {
        "colab": {
          "base_uri": "https://localhost:8080/"
        },
        "id": "-cRu3US_FQLa",
        "outputId": "5ba74748-6b8d-4f8f-c755-c5b1c3715ee7"
      },
      "source": [
        "fit_and_evaluate(LogisticRegression(random_state=0, max_iter=10000), X_train_rus_34, y_train_rus_34, X_test_transformed, y_test)\n",
        "fit_and_evaluate(LinearSVC(random_state=0, max_iter=10000), X_train_rus_34, y_train_rus_34, X_test_transformed, y_test)\n",
        "fit_and_evaluate(DecisionTreeClassifier(random_state=0), X_train_rus_34, y_train_rus_34, X_test_transformed, y_test)"
      ],
      "execution_count": null,
      "outputs": [
        {
          "output_type": "stream",
          "text": [
            "LogisticRegression(C=1.0, class_weight=None, dual=False, fit_intercept=True,\n",
            "                   intercept_scaling=1, l1_ratio=None, max_iter=10000,\n",
            "                   multi_class='auto', n_jobs=None, penalty='l2',\n",
            "                   random_state=0, solver='lbfgs', tol=0.0001, verbose=0,\n",
            "                   warm_start=False)\n",
            "              precision    recall  f1-score   support\n",
            "\n",
            "          No       0.91      0.85      0.88     22067\n",
            "         Yes       0.58      0.72      0.64      6372\n",
            "\n",
            "    accuracy                           0.82     28439\n",
            "   macro avg       0.75      0.79      0.76     28439\n",
            "weighted avg       0.84      0.82      0.83     28439\n",
            "\n",
            "LinearSVC(C=1.0, class_weight=None, dual=True, fit_intercept=True,\n",
            "          intercept_scaling=1, loss='squared_hinge', max_iter=10000,\n",
            "          multi_class='ovr', penalty='l2', random_state=0, tol=0.0001,\n",
            "          verbose=0)\n",
            "              precision    recall  f1-score   support\n",
            "\n",
            "          No       0.91      0.85      0.88     22067\n",
            "         Yes       0.59      0.72      0.65      6372\n",
            "\n",
            "    accuracy                           0.82     28439\n",
            "   macro avg       0.75      0.79      0.76     28439\n",
            "weighted avg       0.84      0.82      0.83     28439\n",
            "\n",
            "DecisionTreeClassifier(ccp_alpha=0.0, class_weight=None, criterion='gini',\n",
            "                       max_depth=None, max_features=None, max_leaf_nodes=None,\n",
            "                       min_impurity_decrease=0.0, min_impurity_split=None,\n",
            "                       min_samples_leaf=1, min_samples_split=2,\n",
            "                       min_weight_fraction_leaf=0.0, presort='deprecated',\n",
            "                       random_state=0, splitter='best')\n",
            "              precision    recall  f1-score   support\n",
            "\n",
            "          No       0.89      0.76      0.82     22067\n",
            "         Yes       0.45      0.68      0.54      6372\n",
            "\n",
            "    accuracy                           0.74     28439\n",
            "   macro avg       0.67      0.72      0.68     28439\n",
            "weighted avg       0.79      0.74      0.76     28439\n",
            "\n"
          ],
          "name": "stdout"
        }
      ]
    },
    {
      "cell_type": "markdown",
      "metadata": {
        "id": "qs0aAcZnFbrs"
      },
      "source": [
        "##### 2:3 ratio"
      ]
    },
    {
      "cell_type": "code",
      "metadata": {
        "colab": {
          "base_uri": "https://localhost:8080/"
        },
        "id": "bBEeWCDqFbrs",
        "outputId": "0a03930e-667d-4a5c-948d-31828994c9a0"
      },
      "source": [
        "X_train_rus_23, y_train_rus_23 = random_undersample(X_train_transformed, y_train, ratio=2/3) "
      ],
      "execution_count": null,
      "outputs": [
        {
          "output_type": "stream",
          "text": [
            "/usr/local/lib/python3.7/dist-packages/sklearn/utils/deprecation.py:87: FutureWarning: Function safe_indexing is deprecated; safe_indexing is deprecated in version 0.22 and will be removed in version 0.24.\n",
            "  warnings.warn(msg, category=FutureWarning)\n"
          ],
          "name": "stderr"
        }
      ]
    },
    {
      "cell_type": "code",
      "metadata": {
        "colab": {
          "base_uri": "https://localhost:8080/"
        },
        "id": "VnKCpoJrFbrt",
        "outputId": "3c3c566d-00b1-471b-c4dd-ead02fca2ccf"
      },
      "source": [
        "pd.Series(y_train_rus_23).value_counts()"
      ],
      "execution_count": null,
      "outputs": [
        {
          "output_type": "execute_result",
          "data": {
            "text/plain": [
              "0    38257\n",
              "1    25505\n",
              "dtype: int64"
            ]
          },
          "metadata": {
            "tags": []
          },
          "execution_count": 86
        }
      ]
    },
    {
      "cell_type": "code",
      "metadata": {
        "colab": {
          "base_uri": "https://localhost:8080/"
        },
        "id": "f6IW6Wj3Fbrt",
        "outputId": "c3acd2e3-ac25-40d0-8467-2dcd4151331e"
      },
      "source": [
        "fit_and_evaluate(LogisticRegression(random_state=0, max_iter=10000), X_train_rus_23, y_train_rus_23, X_test_transformed, y_test)\n",
        "fit_and_evaluate(LinearSVC(random_state=0, max_iter=10000), X_train_rus_23, y_train_rus_23, X_test_transformed, y_test)\n",
        "fit_and_evaluate(DecisionTreeClassifier(random_state=0), X_train_rus_23, y_train_rus_23, X_test_transformed, y_test)"
      ],
      "execution_count": null,
      "outputs": [
        {
          "output_type": "stream",
          "text": [
            "LogisticRegression(C=1.0, class_weight=None, dual=False, fit_intercept=True,\n",
            "                   intercept_scaling=1, l1_ratio=None, max_iter=10000,\n",
            "                   multi_class='auto', n_jobs=None, penalty='l2',\n",
            "                   random_state=0, solver='lbfgs', tol=0.0001, verbose=0,\n",
            "                   warm_start=False)\n",
            "              precision    recall  f1-score   support\n",
            "\n",
            "          No       0.91      0.87      0.89     22067\n",
            "         Yes       0.60      0.70      0.65      6372\n",
            "\n",
            "    accuracy                           0.83     28439\n",
            "   macro avg       0.76      0.78      0.77     28439\n",
            "weighted avg       0.84      0.83      0.83     28439\n",
            "\n",
            "LinearSVC(C=1.0, class_weight=None, dual=True, fit_intercept=True,\n",
            "          intercept_scaling=1, loss='squared_hinge', max_iter=10000,\n",
            "          multi_class='ovr', penalty='l2', random_state=0, tol=0.0001,\n",
            "          verbose=0)\n",
            "              precision    recall  f1-score   support\n",
            "\n",
            "          No       0.91      0.87      0.89     22067\n",
            "         Yes       0.61      0.70      0.65      6372\n",
            "\n",
            "    accuracy                           0.83     28439\n",
            "   macro avg       0.76      0.78      0.77     28439\n",
            "weighted avg       0.84      0.83      0.84     28439\n",
            "\n",
            "DecisionTreeClassifier(ccp_alpha=0.0, class_weight=None, criterion='gini',\n",
            "                       max_depth=None, max_features=None, max_leaf_nodes=None,\n",
            "                       min_impurity_decrease=0.0, min_impurity_split=None,\n",
            "                       min_samples_leaf=1, min_samples_split=2,\n",
            "                       min_weight_fraction_leaf=0.0, presort='deprecated',\n",
            "                       random_state=0, splitter='best')\n",
            "              precision    recall  f1-score   support\n",
            "\n",
            "          No       0.89      0.78      0.83     22067\n",
            "         Yes       0.46      0.66      0.54      6372\n",
            "\n",
            "    accuracy                           0.75     28439\n",
            "   macro avg       0.67      0.72      0.69     28439\n",
            "weighted avg       0.79      0.75      0.76     28439\n",
            "\n"
          ],
          "name": "stdout"
        }
      ]
    },
    {
      "cell_type": "markdown",
      "metadata": {
        "id": "4ROXNA5-Ff7o"
      },
      "source": [
        "##### 1:2 ratio"
      ]
    },
    {
      "cell_type": "code",
      "metadata": {
        "colab": {
          "base_uri": "https://localhost:8080/"
        },
        "id": "dTcs0eNnFf7p",
        "outputId": "901e2a60-8af0-4dc0-c2a2-464f7dc45b25"
      },
      "source": [
        "X_train_rus_12, y_train_rus_12 = random_undersample(X_train_transformed, y_train, ratio=0.5) "
      ],
      "execution_count": null,
      "outputs": [
        {
          "output_type": "stream",
          "text": [
            "/usr/local/lib/python3.7/dist-packages/sklearn/utils/deprecation.py:87: FutureWarning: Function safe_indexing is deprecated; safe_indexing is deprecated in version 0.22 and will be removed in version 0.24.\n",
            "  warnings.warn(msg, category=FutureWarning)\n"
          ],
          "name": "stderr"
        }
      ]
    },
    {
      "cell_type": "code",
      "metadata": {
        "colab": {
          "base_uri": "https://localhost:8080/"
        },
        "id": "SIbMEFZ7G2YN",
        "outputId": "7b7c9c13-edc3-4bd0-825f-70f9bc1e38e9"
      },
      "source": [
        "X_train_rus_12.shape"
      ],
      "execution_count": null,
      "outputs": [
        {
          "output_type": "execute_result",
          "data": {
            "text/plain": [
              "(76515, 118)"
            ]
          },
          "metadata": {
            "tags": []
          },
          "execution_count": 91
        }
      ]
    },
    {
      "cell_type": "code",
      "metadata": {
        "colab": {
          "base_uri": "https://localhost:8080/"
        },
        "id": "ka-lBdPgFf7p",
        "outputId": "b040948c-df81-4cc6-bf61-8f9335dc6928"
      },
      "source": [
        "pd.Series(y_train_rus_12).value_counts()"
      ],
      "execution_count": null,
      "outputs": [
        {
          "output_type": "execute_result",
          "data": {
            "text/plain": [
              "0    51010\n",
              "1    25505\n",
              "dtype: int64"
            ]
          },
          "metadata": {
            "tags": []
          },
          "execution_count": 89
        }
      ]
    },
    {
      "cell_type": "code",
      "metadata": {
        "colab": {
          "base_uri": "https://localhost:8080/"
        },
        "id": "Npjr1f9rFf7p",
        "outputId": "506c49f2-8219-45cb-a01d-eb52f8ec185f"
      },
      "source": [
        "fit_and_evaluate(LogisticRegression(random_state=0, max_iter=10000), X_train_rus_12, y_train_rus_12, X_test_transformed, y_test)\n",
        "fit_and_evaluate(LinearSVC(random_state=0, max_iter=10000), X_train_rus_12, y_train_rus_12, X_test_transformed, y_test)\n",
        "fit_and_evaluate(DecisionTreeClassifier(random_state=0), X_train_rus_12, y_train_rus_12, X_test_transformed, y_test)"
      ],
      "execution_count": null,
      "outputs": [
        {
          "output_type": "stream",
          "text": [
            "LogisticRegression(C=1.0, class_weight=None, dual=False, fit_intercept=True,\n",
            "                   intercept_scaling=1, l1_ratio=None, max_iter=10000,\n",
            "                   multi_class='auto', n_jobs=None, penalty='l2',\n",
            "                   random_state=0, solver='lbfgs', tol=0.0001, verbose=0,\n",
            "                   warm_start=False)\n",
            "              precision    recall  f1-score   support\n",
            "\n",
            "          No       0.89      0.90      0.90     22067\n",
            "         Yes       0.65      0.63      0.64      6372\n",
            "\n",
            "    accuracy                           0.84     28439\n",
            "   macro avg       0.77      0.77      0.77     28439\n",
            "weighted avg       0.84      0.84      0.84     28439\n",
            "\n",
            "LinearSVC(C=1.0, class_weight=None, dual=True, fit_intercept=True,\n",
            "          intercept_scaling=1, loss='squared_hinge', max_iter=10000,\n",
            "          multi_class='ovr', penalty='l2', random_state=0, tol=0.0001,\n",
            "          verbose=0)\n",
            "              precision    recall  f1-score   support\n",
            "\n",
            "          No       0.89      0.90      0.90     22067\n",
            "         Yes       0.66      0.63      0.64      6372\n",
            "\n",
            "    accuracy                           0.84     28439\n",
            "   macro avg       0.77      0.77      0.77     28439\n",
            "weighted avg       0.84      0.84      0.84     28439\n",
            "\n",
            "DecisionTreeClassifier(ccp_alpha=0.0, class_weight=None, criterion='gini',\n",
            "                       max_depth=None, max_features=None, max_leaf_nodes=None,\n",
            "                       min_impurity_decrease=0.0, min_impurity_split=None,\n",
            "                       min_samples_leaf=1, min_samples_split=2,\n",
            "                       min_weight_fraction_leaf=0.0, presort='deprecated',\n",
            "                       random_state=0, splitter='best')\n",
            "              precision    recall  f1-score   support\n",
            "\n",
            "          No       0.88      0.81      0.84     22067\n",
            "         Yes       0.48      0.63      0.55      6372\n",
            "\n",
            "    accuracy                           0.77     28439\n",
            "   macro avg       0.68      0.72      0.69     28439\n",
            "weighted avg       0.79      0.77      0.78     28439\n",
            "\n"
          ],
          "name": "stdout"
        }
      ]
    },
    {
      "cell_type": "markdown",
      "metadata": {
        "id": "figoTRpzD6dm"
      },
      "source": [
        "#### Cleaning Undersampling"
      ]
    },
    {
      "cell_type": "markdown",
      "metadata": {
        "id": "fAoz6i3kHOOO"
      },
      "source": [
        "##### Tomek Links"
      ]
    },
    {
      "cell_type": "code",
      "metadata": {
        "id": "_g6mxkT9Hhxm"
      },
      "source": [
        "tomek = TomekLinks(random_state=0, n_jobs=-1)"
      ],
      "execution_count": null,
      "outputs": []
    },
    {
      "cell_type": "code",
      "metadata": {
        "colab": {
          "base_uri": "https://localhost:8080/"
        },
        "id": "7eY67YGRHsle",
        "outputId": "0ac92bcc-cad3-409a-db01-bae6c7b2d693"
      },
      "source": [
        "X_train_tomek, y_train_tomek = tomek.fit_sample(X_train_transformed, y_train) "
      ],
      "execution_count": null,
      "outputs": [
        {
          "output_type": "stream",
          "text": [
            "/usr/local/lib/python3.7/dist-packages/sklearn/utils/deprecation.py:87: FutureWarning: Function safe_indexing is deprecated; safe_indexing is deprecated in version 0.22 and will be removed in version 0.24.\n",
            "  warnings.warn(msg, category=FutureWarning)\n"
          ],
          "name": "stderr"
        }
      ]
    },
    {
      "cell_type": "code",
      "metadata": {
        "colab": {
          "base_uri": "https://localhost:8080/"
        },
        "id": "jjDoGCg-H-Zy",
        "outputId": "821af702-6c81-40ce-9644-50c5b11eda11"
      },
      "source": [
        "pd.Series(y_train_tomek).value_counts()"
      ],
      "execution_count": null,
      "outputs": [
        {
          "output_type": "execute_result",
          "data": {
            "text/plain": [
              "0    81474\n",
              "1    25505\n",
              "dtype: int64"
            ]
          },
          "metadata": {
            "tags": []
          },
          "execution_count": 94
        }
      ]
    },
    {
      "cell_type": "code",
      "metadata": {
        "colab": {
          "base_uri": "https://localhost:8080/"
        },
        "id": "7eUcpYXKH9zn",
        "outputId": "293d2358-1440-4873-89ff-62f47f42ebd2"
      },
      "source": [
        "fit_and_evaluate(LogisticRegression(random_state=0, max_iter=10000), X_train_tomek, y_train_tomek, X_test_transformed, y_test)\n",
        "fit_and_evaluate(LinearSVC(random_state=0, max_iter=10000), X_train_tomek, y_train_tomek, X_test_transformed, y_test)\n",
        "fit_and_evaluate(DecisionTreeClassifier(random_state=0), X_train_tomek, y_train_tomek, X_test_transformed, y_test)"
      ],
      "execution_count": null,
      "outputs": [
        {
          "output_type": "stream",
          "text": [
            "LogisticRegression(C=1.0, class_weight=None, dual=False, fit_intercept=True,\n",
            "                   intercept_scaling=1, l1_ratio=None, max_iter=10000,\n",
            "                   multi_class='auto', n_jobs=None, penalty='l2',\n",
            "                   random_state=0, solver='lbfgs', tol=0.0001, verbose=0,\n",
            "                   warm_start=False)\n",
            "              precision    recall  f1-score   support\n",
            "\n",
            "          No       0.88      0.93      0.91     22067\n",
            "         Yes       0.70      0.56      0.62      6372\n",
            "\n",
            "    accuracy                           0.85     28439\n",
            "   macro avg       0.79      0.75      0.76     28439\n",
            "weighted avg       0.84      0.85      0.84     28439\n",
            "\n",
            "LinearSVC(C=1.0, class_weight=None, dual=True, fit_intercept=True,\n",
            "          intercept_scaling=1, loss='squared_hinge', max_iter=10000,\n",
            "          multi_class='ovr', penalty='l2', random_state=0, tol=0.0001,\n",
            "          verbose=0)\n",
            "              precision    recall  f1-score   support\n",
            "\n",
            "          No       0.88      0.94      0.91     22067\n",
            "         Yes       0.72      0.54      0.62      6372\n",
            "\n",
            "    accuracy                           0.85     28439\n",
            "   macro avg       0.80      0.74      0.76     28439\n",
            "weighted avg       0.84      0.85      0.84     28439\n",
            "\n",
            "DecisionTreeClassifier(ccp_alpha=0.0, class_weight=None, criterion='gini',\n",
            "                       max_depth=None, max_features=None, max_leaf_nodes=None,\n",
            "                       min_impurity_decrease=0.0, min_impurity_split=None,\n",
            "                       min_samples_leaf=1, min_samples_split=2,\n",
            "                       min_weight_fraction_leaf=0.0, presort='deprecated',\n",
            "                       random_state=0, splitter='best')\n",
            "              precision    recall  f1-score   support\n",
            "\n",
            "          No       0.88      0.85      0.86     22067\n",
            "         Yes       0.53      0.58      0.56      6372\n",
            "\n",
            "    accuracy                           0.79     28439\n",
            "   macro avg       0.70      0.72      0.71     28439\n",
            "weighted avg       0.80      0.79      0.79     28439\n",
            "\n"
          ],
          "name": "stdout"
        }
      ]
    },
    {
      "cell_type": "markdown",
      "metadata": {
        "id": "wwaynPkTIV7V"
      },
      "source": [
        "##### Editted Nearest Neighbor"
      ]
    },
    {
      "cell_type": "code",
      "metadata": {
        "id": "J9ViXyt_Ifww"
      },
      "source": [
        "enn_all = EditedNearestNeighbours(kind_sel='all')\n",
        "enn_mode = EditedNearestNeighbours(kind_sel='mode')"
      ],
      "execution_count": null,
      "outputs": []
    },
    {
      "cell_type": "code",
      "metadata": {
        "id": "ypEr8qHTqn3V",
        "colab": {
          "base_uri": "https://localhost:8080/"
        },
        "outputId": "7ff8a83c-422b-4dca-f022-9d0d823aa853"
      },
      "source": [
        "X_train_enn_all, y_train_enn_all = enn_all.fit_sample(X_train_transformed, y_train)\n",
        "X_train_enn_mode, y_train_enn_mode = enn_mode.fit_sample(X_train_transformed, y_train)"
      ],
      "execution_count": null,
      "outputs": [
        {
          "output_type": "stream",
          "text": [
            "/usr/local/lib/python3.7/dist-packages/sklearn/utils/deprecation.py:87: FutureWarning: Function safe_indexing is deprecated; safe_indexing is deprecated in version 0.22 and will be removed in version 0.24.\n",
            "  warnings.warn(msg, category=FutureWarning)\n",
            "/usr/local/lib/python3.7/dist-packages/sklearn/utils/deprecation.py:87: FutureWarning: Function safe_indexing is deprecated; safe_indexing is deprecated in version 0.22 and will be removed in version 0.24.\n",
            "  warnings.warn(msg, category=FutureWarning)\n",
            "/usr/local/lib/python3.7/dist-packages/sklearn/utils/deprecation.py:87: FutureWarning: Function safe_indexing is deprecated; safe_indexing is deprecated in version 0.22 and will be removed in version 0.24.\n",
            "  warnings.warn(msg, category=FutureWarning)\n",
            "/usr/local/lib/python3.7/dist-packages/sklearn/utils/deprecation.py:87: FutureWarning: Function safe_indexing is deprecated; safe_indexing is deprecated in version 0.22 and will be removed in version 0.24.\n",
            "  warnings.warn(msg, category=FutureWarning)\n"
          ],
          "name": "stderr"
        }
      ]
    },
    {
      "cell_type": "code",
      "metadata": {
        "colab": {
          "base_uri": "https://localhost:8080/"
        },
        "id": "Q3kcy71zwbIU",
        "outputId": "bf0c61d6-2bee-4dd9-81d3-0a3e21584606"
      },
      "source": [
        "X_train_enn_mode.shape"
      ],
      "execution_count": null,
      "outputs": [
        {
          "output_type": "execute_result",
          "data": {
            "text/plain": [
              "(105466, 118)"
            ]
          },
          "metadata": {
            "tags": []
          },
          "execution_count": 42
        }
      ]
    },
    {
      "cell_type": "code",
      "metadata": {
        "colab": {
          "base_uri": "https://localhost:8080/"
        },
        "id": "C9WfDP1KI_Vn",
        "outputId": "699d8106-aadc-49fd-e160-f7f3754da81f"
      },
      "source": [
        "pd.Series(y_train_enn_all).value_counts()"
      ],
      "execution_count": null,
      "outputs": [
        {
          "output_type": "execute_result",
          "data": {
            "text/plain": [
              "0    58889\n",
              "1    25505\n",
              "dtype: int64"
            ]
          },
          "metadata": {
            "tags": []
          },
          "execution_count": 98
        }
      ]
    },
    {
      "cell_type": "code",
      "metadata": {
        "colab": {
          "base_uri": "https://localhost:8080/"
        },
        "id": "pdkntabLJExI",
        "outputId": "27274388-97d1-4c72-f99c-fa802c3d38e9"
      },
      "source": [
        "pd.Series(y_train_enn_mode).value_counts()"
      ],
      "execution_count": null,
      "outputs": [
        {
          "output_type": "execute_result",
          "data": {
            "text/plain": [
              "0    79961\n",
              "1    25505\n",
              "dtype: int64"
            ]
          },
          "metadata": {
            "tags": []
          },
          "execution_count": 99
        }
      ]
    },
    {
      "cell_type": "code",
      "metadata": {
        "colab": {
          "base_uri": "https://localhost:8080/"
        },
        "id": "qnNnWT7lJKH3",
        "outputId": "85de15c3-0680-4489-e27d-5f630b268c14"
      },
      "source": [
        "fit_and_evaluate(LogisticRegression(random_state=0, max_iter=10000), X_train_enn_all, y_train_enn_all, X_test_transformed, y_test)\n",
        "fit_and_evaluate(LinearSVC(random_state=0, max_iter=10000), X_train_enn_all, y_train_enn_all, X_test_transformed, y_test)\n",
        "fit_and_evaluate(DecisionTreeClassifier(random_state=0), X_train_enn_all, y_train_enn_all, X_test_transformed, y_test)"
      ],
      "execution_count": null,
      "outputs": [
        {
          "output_type": "stream",
          "text": [
            "LogisticRegression(C=1.0, class_weight=None, dual=False, fit_intercept=True,\n",
            "                   intercept_scaling=1, l1_ratio=None, max_iter=10000,\n",
            "                   multi_class='auto', n_jobs=None, penalty='l2',\n",
            "                   random_state=0, solver='lbfgs', tol=0.0001, verbose=0,\n",
            "                   warm_start=False)\n",
            "              precision    recall  f1-score   support\n",
            "\n",
            "          No       0.91      0.85      0.88     22067\n",
            "         Yes       0.58      0.72      0.64      6372\n",
            "\n",
            "    accuracy                           0.82     28439\n",
            "   macro avg       0.75      0.78      0.76     28439\n",
            "weighted avg       0.84      0.82      0.83     28439\n",
            "\n",
            "LinearSVC(C=1.0, class_weight=None, dual=True, fit_intercept=True,\n",
            "          intercept_scaling=1, loss='squared_hinge', max_iter=10000,\n",
            "          multi_class='ovr', penalty='l2', random_state=0, tol=0.0001,\n",
            "          verbose=0)\n",
            "              precision    recall  f1-score   support\n",
            "\n",
            "          No       0.91      0.86      0.88     22067\n",
            "         Yes       0.59      0.71      0.64      6372\n",
            "\n",
            "    accuracy                           0.82     28439\n",
            "   macro avg       0.75      0.78      0.76     28439\n",
            "weighted avg       0.84      0.82      0.83     28439\n",
            "\n",
            "DecisionTreeClassifier(ccp_alpha=0.0, class_weight=None, criterion='gini',\n",
            "                       max_depth=None, max_features=None, max_leaf_nodes=None,\n",
            "                       min_impurity_decrease=0.0, min_impurity_split=None,\n",
            "                       min_samples_leaf=1, min_samples_split=2,\n",
            "                       min_weight_fraction_leaf=0.0, presort='deprecated',\n",
            "                       random_state=0, splitter='best')\n",
            "              precision    recall  f1-score   support\n",
            "\n",
            "          No       0.90      0.79      0.84     22067\n",
            "         Yes       0.50      0.70      0.58      6372\n",
            "\n",
            "    accuracy                           0.77     28439\n",
            "   macro avg       0.70      0.75      0.71     28439\n",
            "weighted avg       0.81      0.77      0.79     28439\n",
            "\n"
          ],
          "name": "stdout"
        }
      ]
    },
    {
      "cell_type": "code",
      "metadata": {
        "colab": {
          "base_uri": "https://localhost:8080/"
        },
        "id": "DigyVhbyJQAS",
        "outputId": "be7c0073-f688-424a-8d94-d91e815a75c6"
      },
      "source": [
        "fit_and_evaluate(LogisticRegression(random_state=0, max_iter=10000), X_train_enn_mode, y_train_enn_mode, X_test_transformed, y_test)\n",
        "fit_and_evaluate(LinearSVC(random_state=0, max_iter=10000), X_train_enn_mode, y_train_enn_mode, X_test_transformed, y_test)\n",
        "fit_and_evaluate(DecisionTreeClassifier(random_state=0), X_train_enn_mode, y_train_enn_mode, X_test_transformed, y_test)"
      ],
      "execution_count": null,
      "outputs": [
        {
          "output_type": "stream",
          "text": [
            "LogisticRegression(C=1.0, class_weight=None, dual=False, fit_intercept=True,\n",
            "                   intercept_scaling=1, l1_ratio=None, max_iter=10000,\n",
            "                   multi_class='auto', n_jobs=None, penalty='l2',\n",
            "                   random_state=0, solver='lbfgs', tol=0.0001, verbose=0,\n",
            "                   warm_start=False)\n",
            "              precision    recall  f1-score   support\n",
            "\n",
            "          No       0.89      0.92      0.90     22067\n",
            "         Yes       0.68      0.59      0.63      6372\n",
            "\n",
            "    accuracy                           0.85     28439\n",
            "   macro avg       0.78      0.76      0.77     28439\n",
            "weighted avg       0.84      0.85      0.84     28439\n",
            "\n",
            "LinearSVC(C=1.0, class_weight=None, dual=True, fit_intercept=True,\n",
            "          intercept_scaling=1, loss='squared_hinge', max_iter=10000,\n",
            "          multi_class='ovr', penalty='l2', random_state=0, tol=0.0001,\n",
            "          verbose=0)\n",
            "              precision    recall  f1-score   support\n",
            "\n",
            "          No       0.88      0.92      0.90     22067\n",
            "         Yes       0.69      0.58      0.63      6372\n",
            "\n",
            "    accuracy                           0.85     28439\n",
            "   macro avg       0.79      0.75      0.77     28439\n",
            "weighted avg       0.84      0.85      0.84     28439\n",
            "\n",
            "DecisionTreeClassifier(ccp_alpha=0.0, class_weight=None, criterion='gini',\n",
            "                       max_depth=None, max_features=None, max_leaf_nodes=None,\n",
            "                       min_impurity_decrease=0.0, min_impurity_split=None,\n",
            "                       min_samples_leaf=1, min_samples_split=2,\n",
            "                       min_weight_fraction_leaf=0.0, presort='deprecated',\n",
            "                       random_state=0, splitter='best')\n",
            "              precision    recall  f1-score   support\n",
            "\n",
            "          No       0.88      0.85      0.86     22067\n",
            "         Yes       0.53      0.60      0.56      6372\n",
            "\n",
            "    accuracy                           0.79     28439\n",
            "   macro avg       0.70      0.72      0.71     28439\n",
            "weighted avg       0.80      0.79      0.80     28439\n",
            "\n"
          ],
          "name": "stdout"
        }
      ]
    },
    {
      "cell_type": "code",
      "metadata": {
        "colab": {
          "base_uri": "https://localhost:8080/"
        },
        "id": "dTJKD5Jp3Afh",
        "outputId": "79865825-25f4-4d5a-e8c9-9b42c6fb92d9"
      },
      "source": [
        "# 1:3 ratio - no sampling\n",
        "y_pred = log_clf.predict(X_test_transformed)\n",
        "target_names = ['No', 'Yes']\n",
        "print(classification_report(y_test, y_pred, target_names=target_names))"
      ],
      "execution_count": null,
      "outputs": [
        {
          "output_type": "stream",
          "text": [
            "              precision    recall  f1-score   support\n",
            "\n",
            "          No       0.87      0.95      0.91     22067\n",
            "         Yes       0.74      0.52      0.61      6372\n",
            "\n",
            "    accuracy                           0.85     28439\n",
            "   macro avg       0.80      0.73      0.76     28439\n",
            "weighted avg       0.84      0.85      0.84     28439\n",
            "\n"
          ],
          "name": "stdout"
        }
      ]
    },
    {
      "cell_type": "code",
      "metadata": {
        "colab": {
          "base_uri": "https://localhost:8080/"
        },
        "id": "wgAVS_yy2Twc",
        "outputId": "3c61f7f1-35ab-4b98-b682-5a41c00800ab"
      },
      "source": [
        "# 1:3 ratio - TomeK Links\n",
        "y_pred = log_clf.predict(X_test_transformed)\n",
        "target_names = ['No', 'Yes']\n",
        "print(classification_report(y_test, y_pred, target_names=target_names))"
      ],
      "execution_count": null,
      "outputs": [
        {
          "output_type": "stream",
          "text": [
            "              precision    recall  f1-score   support\n",
            "\n",
            "          No       0.88      0.93      0.91     22067\n",
            "         Yes       0.70      0.56      0.62      6372\n",
            "\n",
            "    accuracy                           0.85     28439\n",
            "   macro avg       0.79      0.75      0.76     28439\n",
            "weighted avg       0.84      0.85      0.84     28439\n",
            "\n"
          ],
          "name": "stdout"
        }
      ]
    },
    {
      "cell_type": "markdown",
      "metadata": {
        "id": "YqK6dohUljPP"
      },
      "source": [
        "### Combine"
      ]
    },
    {
      "cell_type": "markdown",
      "metadata": {
        "id": "nKoBs1RvluLf"
      },
      "source": [
        "#### SMOTETomeK"
      ]
    },
    {
      "cell_type": "code",
      "metadata": {
        "colab": {
          "base_uri": "https://localhost:8080/"
        },
        "id": "6-yzXj0RmszN",
        "outputId": "6b786119-edcc-4e4c-be45-82d4593e85ec"
      },
      "source": [
        "smote_tomek = SMOTETomek(random_state=0)\n",
        "X_train_smote_tomek, y_train_smote_tomek = smote_tomek.fit_sample(X_train_transformed, y_train)"
      ],
      "execution_count": null,
      "outputs": [
        {
          "output_type": "stream",
          "text": [
            "/usr/local/lib/python3.7/dist-packages/sklearn/utils/deprecation.py:87: FutureWarning: Function safe_indexing is deprecated; safe_indexing is deprecated in version 0.22 and will be removed in version 0.24.\n",
            "  warnings.warn(msg, category=FutureWarning)\n",
            "/usr/local/lib/python3.7/dist-packages/sklearn/utils/deprecation.py:87: FutureWarning: Function safe_indexing is deprecated; safe_indexing is deprecated in version 0.22 and will be removed in version 0.24.\n",
            "  warnings.warn(msg, category=FutureWarning)\n"
          ],
          "name": "stderr"
        }
      ]
    },
    {
      "cell_type": "markdown",
      "metadata": {
        "id": "_AitKO-Pl4MH"
      },
      "source": [
        "#### SMOTEENN"
      ]
    },
    {
      "cell_type": "code",
      "metadata": {
        "id": "GJPm4fD8nD09"
      },
      "source": [
        "smote_enn = SMOTEENN(random_state=0)\n",
        "X_train_smote_enn, y_train_smote_enn = smote_enn.fit_sample(X_train_transformed, y_train)"
      ],
      "execution_count": null,
      "outputs": []
    },
    {
      "cell_type": "markdown",
      "metadata": {
        "id": "5DNJATGsw29Z"
      },
      "source": [
        ""
      ]
    },
    {
      "cell_type": "markdown",
      "metadata": {
        "id": "UTIj0-9aX5Um"
      },
      "source": [
        "### Save dataset"
      ]
    },
    {
      "cell_type": "code",
      "metadata": {
        "id": "NhKpyouWxQAu"
      },
      "source": [
        "import os "
      ],
      "execution_count": null,
      "outputs": []
    },
    {
      "cell_type": "code",
      "metadata": {
        "id": "1djtuEFrswzW"
      },
      "source": [
        "import numpy as np\n"
      ],
      "execution_count": null,
      "outputs": []
    },
    {
      "cell_type": "code",
      "metadata": {
        "id": "yCJy-o5zw78Y"
      },
      "source": [
        "SAVE_DIR = 'datasets'"
      ],
      "execution_count": null,
      "outputs": []
    },
    {
      "cell_type": "code",
      "metadata": {
        "id": "PlYcqPKcyi7X"
      },
      "source": [
        "np.save(os.path.join(SAVE_DIR, 'X_train_ros_11.npy'), X_train_ros_11)\n",
        "np.save(os.path.join(SAVE_DIR, 'y_train_ros_11.npy'), y_train_ros_11)\n",
        "np.save(os.path.join(SAVE_DIR, 'X_train_ros_34.npy'), X_train_ros_34)\n",
        "np.save(os.path.join(SAVE_DIR, 'y_train_ros_34.npy'), y_train_ros_34)\n",
        "np.save(os.path.join(SAVE_DIR, 'X_train_ros_23.npy'), X_train_ros_23)\n",
        "np.save(os.path.join(SAVE_DIR, 'y_train_ros_23.npy'), y_train_ros_23)\n",
        "np.save(os.path.join(SAVE_DIR, 'X_train_ros_12.npy'), X_train_ros_12)\n",
        "np.save(os.path.join(SAVE_DIR, 'y_train_ros_12.npy'), y_train_ros_12)"
      ],
      "execution_count": null,
      "outputs": []
    },
    {
      "cell_type": "code",
      "metadata": {
        "id": "qjm6e-hFy2I6"
      },
      "source": [
        "np.save(os.path.join(SAVE_DIR, 'X_train_smote_11.npy'), X_train_smote_11)\n",
        "np.save(os.path.join(SAVE_DIR, 'y_train_smote_11.npy'), y_train_smote_11)\n",
        "np.save(os.path.join(SAVE_DIR, 'X_train_smote_34.npy'), X_train_smote_34)\n",
        "np.save(os.path.join(SAVE_DIR, 'y_train_smote_34.npy'), y_train_smote_34)\n",
        "np.save(os.path.join(SAVE_DIR, 'X_train_smote_23.npy'), X_train_smote_23)\n",
        "np.save(os.path.join(SAVE_DIR, 'y_train_smote_23.npy'), y_train_smote_23)\n",
        "np.save(os.path.join(SAVE_DIR, 'X_train_smote_12.npy'), X_train_smote_12)\n",
        "np.save(os.path.join(SAVE_DIR, 'y_train_smote_12.npy'), y_train_smote_12)\n"
      ],
      "execution_count": null,
      "outputs": []
    },
    {
      "cell_type": "code",
      "metadata": {
        "id": "cXXU1_ZNzLtR"
      },
      "source": [
        "np.save(os.path.join(SAVE_DIR, 'X_train_rus_11.npy'), X_train_rus_11)\n",
        "np.save(os.path.join(SAVE_DIR, 'y_train_rus_11.npy'), y_train_rus_11)\n",
        "np.save(os.path.join(SAVE_DIR, 'X_train_rus_34.npy'), X_train_rus_34)\n",
        "np.save(os.path.join(SAVE_DIR, 'y_train_rus_34.npy'), y_train_rus_34)\n",
        "np.save(os.path.join(SAVE_DIR, 'X_train_rus_23.npy'), X_train_rus_23)\n",
        "np.save(os.path.join(SAVE_DIR, 'y_train_rus_23.npy'), y_train_rus_23)\n",
        "np.save(os.path.join(SAVE_DIR, 'X_train_rus_12.npy'), X_train_rus_12)\n",
        "np.save(os.path.join(SAVE_DIR, 'y_train_rus_12.npy'), y_train_rus_12)"
      ],
      "execution_count": null,
      "outputs": []
    },
    {
      "cell_type": "code",
      "metadata": {
        "id": "Ir_pvRmQzc39"
      },
      "source": [
        "np.save(os.path.join(SAVE_DIR, 'X_train_tomek.npy'), X_train_tomek)\n",
        "np.save(os.path.join(SAVE_DIR, 'y_train_tomek.npy'), y_train_tomek)\n",
        "np.save(os.path.join(SAVE_DIR, 'X_train_enn_all.npy'), X_train_enn_all)\n",
        "np.save(os.path.join(SAVE_DIR, 'y_train_enn_all.npy'), y_train_enn_all)"
      ],
      "execution_count": null,
      "outputs": []
    },
    {
      "cell_type": "code",
      "metadata": {
        "id": "BxgB1wowX4ob"
      },
      "source": [
        "from imblearn.over_sampling import SMOTE\n",
        "from imblearn.combine import SMOTEENN, SMOTETomek\n",
        "from imblearn.pipeline import make_pipeline\n",
        "from sklearn.svm import LinearSVC, SVC "
      ],
      "execution_count": null,
      "outputs": []
    },
    {
      "cell_type": "markdown",
      "metadata": {
        "id": "pmhbihTMLKQn"
      },
      "source": [
        "### Class Weights"
      ]
    },
    {
      "cell_type": "code",
      "metadata": {
        "colab": {
          "base_uri": "https://localhost:8080/"
        },
        "id": "_hwS8_5JLOCr",
        "outputId": "f98ac019-fb21-44d2-a87b-1a3010817cec"
      },
      "source": [
        "from sklearn.model_selection import cross_validate\n",
        "scores = cross_validate(LogisticRegression(class_weight='balance'), X_train_transformed, y_train, cv=5, n_jobs=-1, scoring=['roc_auc', 'f1'], return_train_score=True, verbose=1)"
      ],
      "execution_count": null,
      "outputs": [
        {
          "output_type": "stream",
          "text": [
            "[Parallel(n_jobs=-1)]: Using backend LokyBackend with 2 concurrent workers.\n",
            "[Parallel(n_jobs=-1)]: Done   5 out of   5 | elapsed:   16.5s finished\n"
          ],
          "name": "stderr"
        }
      ]
    },
    {
      "cell_type": "code",
      "metadata": {
        "colab": {
          "base_uri": "https://localhost:8080/"
        },
        "id": "xBEKMhXJlPyZ",
        "outputId": "c0b6f87b-990c-46a3-dc68-7dc6ebbf3318"
      },
      "source": [
        "scores "
      ],
      "execution_count": null,
      "outputs": [
        {
          "output_type": "execute_result",
          "data": {
            "text/plain": [
              "{'fit_time': array([5.52871084, 5.66914654, 5.3084178 , 5.29882812, 3.19924784]),\n",
              " 'score_time': array([0.05131459, 0.05093265, 0.04524946, 0.04461932, 0.0280056 ]),\n",
              " 'test_f1': array([0.60036664, 0.59551341, 0.5945758 , 0.6026444 , 0.60163727]),\n",
              " 'test_roc_auc': array([0.86746188, 0.86593195, 0.87193621, 0.87292159, 0.86923002]),\n",
              " 'train_f1': array([0.59954973, 0.60104284, 0.60042723, 0.5970944 , 0.59883906]),\n",
              " 'train_roc_auc': array([0.87092843, 0.87138209, 0.87001671, 0.86969852, 0.87056826])}"
            ]
          },
          "metadata": {
            "tags": []
          },
          "execution_count": 104
        }
      ]
    },
    {
      "cell_type": "code",
      "metadata": {
        "id": "9NfxvWXrmipO"
      },
      "source": [
        "class_weights = ['auto', 'balance', {0: .3, 1:.7}, {0: .2, 1: .8}, {0: .4, 1:.6}]"
      ],
      "execution_count": null,
      "outputs": []
    },
    {
      "cell_type": "code",
      "metadata": {
        "colab": {
          "base_uri": "https://localhost:8080/"
        },
        "id": "_KmEC102lfLM",
        "outputId": "09cb76e0-3957-4d13-b836-3e6373881796"
      },
      "source": [
        "for class_weight in class_weights: \n",
        "    print('Class weight: {}'.format(class_weight))\n",
        "    logreg = LogisticRegression(class_weight=class_weight, max_iter=10000)\n",
        "    _  = logreg.fit(X_train_transformed, y_train)\n",
        "    print('Accuracy: {}'.format(logreg.score(X_test_transformed, y_test)))\n",
        "    y_pred = logreg.predict(X_test_transformed)\n",
        "    target_names = ['No', 'Yes']\n",
        "    print(classification_report(y_test, y_pred, target_names=target_names))\n",
        "    print('-'*50)"
      ],
      "execution_count": null,
      "outputs": [
        {
          "output_type": "stream",
          "text": [
            "Class weight: auto\n",
            "Accuracy: 0.850170540455009\n",
            "              precision    recall  f1-score   support\n",
            "\n",
            "          No       0.87      0.95      0.91     22067\n",
            "         Yes       0.74      0.52      0.61      6372\n",
            "\n",
            "    accuracy                           0.85     28439\n",
            "   macro avg       0.80      0.73      0.76     28439\n",
            "weighted avg       0.84      0.85      0.84     28439\n",
            "\n",
            "--------------------------------------------------\n",
            "Class weight: balance\n",
            "Accuracy: 0.850170540455009\n",
            "              precision    recall  f1-score   support\n",
            "\n",
            "          No       0.87      0.95      0.91     22067\n",
            "         Yes       0.74      0.52      0.61      6372\n",
            "\n",
            "    accuracy                           0.85     28439\n",
            "   macro avg       0.80      0.73      0.76     28439\n",
            "weighted avg       0.84      0.85      0.84     28439\n",
            "\n",
            "--------------------------------------------------\n",
            "Class weight: {0: 0.3, 1: 0.7}\n",
            "Accuracy: 0.8286156334610921\n",
            "              precision    recall  f1-score   support\n",
            "\n",
            "          No       0.91      0.87      0.89     22067\n",
            "         Yes       0.60      0.70      0.65      6372\n",
            "\n",
            "    accuracy                           0.83     28439\n",
            "   macro avg       0.76      0.78      0.77     28439\n",
            "weighted avg       0.84      0.83      0.83     28439\n",
            "\n",
            "--------------------------------------------------\n",
            "Class weight: {0: 0.2, 1: 0.8}\n",
            "Accuracy: 0.7808643060585815\n",
            "              precision    recall  f1-score   support\n",
            "\n",
            "          No       0.93      0.77      0.85     22067\n",
            "         Yes       0.51      0.81      0.62      6372\n",
            "\n",
            "    accuracy                           0.78     28439\n",
            "   macro avg       0.72      0.79      0.73     28439\n",
            "weighted avg       0.84      0.78      0.80     28439\n",
            "\n",
            "--------------------------------------------------\n",
            "Class weight: {0: 0.4, 1: 0.6}\n",
            "Accuracy: 0.8459509828053026\n",
            "              precision    recall  f1-score   support\n",
            "\n",
            "          No       0.89      0.92      0.90     22067\n",
            "         Yes       0.67      0.60      0.64      6372\n",
            "\n",
            "    accuracy                           0.85     28439\n",
            "   macro avg       0.78      0.76      0.77     28439\n",
            "weighted avg       0.84      0.85      0.84     28439\n",
            "\n",
            "--------------------------------------------------\n"
          ],
          "name": "stdout"
        }
      ]
    },
    {
      "cell_type": "code",
      "metadata": {
        "colab": {
          "base_uri": "https://localhost:8080/"
        },
        "id": "w5VxRpmJlxrj",
        "outputId": "7c944488-a49d-4ac9-8ef4-79cf87091a77"
      },
      "source": [
        "y_pred = logreg.predict(X_test_transformed)\n",
        "target_names = ['No', 'Yes']\n",
        "print(classification_report(y_test, y_pred, target_names=target_names))"
      ],
      "execution_count": null,
      "outputs": [
        {
          "output_type": "stream",
          "text": [
            "              precision    recall  f1-score   support\n",
            "\n",
            "          No       0.93      0.80      0.86     22067\n",
            "         Yes       0.53      0.78      0.63      6372\n",
            "\n",
            "    accuracy                           0.80     28439\n",
            "   macro avg       0.73      0.79      0.75     28439\n",
            "weighted avg       0.84      0.80      0.81     28439\n",
            "\n"
          ],
          "name": "stdout"
        }
      ]
    },
    {
      "cell_type": "code",
      "metadata": {
        "colab": {
          "base_uri": "https://localhost:8080/"
        },
        "id": "k01yxpCZl4uS",
        "outputId": "6e07dff6-04c4-4dcd-ab09-7144abec97ed"
      },
      "source": [
        "logreg.score(X_test_transformed, y_test)"
      ],
      "execution_count": null,
      "outputs": [
        {
          "output_type": "execute_result",
          "data": {
            "text/plain": [
              "0.850170540455009"
            ]
          },
          "metadata": {
            "tags": []
          },
          "execution_count": 108
        }
      ]
    }
  ]
}