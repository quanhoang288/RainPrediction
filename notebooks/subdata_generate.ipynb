{
  "nbformat": 4,
  "nbformat_minor": 0,
  "metadata": {
    "colab": {
      "name": "Copy of Copy of Data Rain in Astralia.ipynb",
      "provenance": [],
      "collapsed_sections": []
    },
    "kernelspec": {
      "display_name": "Python 3",
      "language": "python",
      "name": "python3"
    },
    "language_info": {
      "codemirror_mode": {
        "name": "ipython",
        "version": 3
      },
      "file_extension": ".py",
      "mimetype": "text/x-python",
      "name": "python",
      "nbconvert_exporter": "python",
      "pygments_lexer": "ipython3",
      "version": "3.6.6"
    }
  },
  "cells": [
    {
      "cell_type": "markdown",
      "metadata": {
        "id": "DCPQ_TvTDT-B"
      },
      "source": [
        "### Import libraries\n",
        "\n",
        "\n",
        "\n"
      ]
    },
    {
      "cell_type": "code",
      "metadata": {
        "colab": {
          "base_uri": "https://localhost:8080/"
        },
        "id": "G1biMUwcWJkt",
        "outputId": "a69b2624-9386-4546-910a-78e186a00f35"
      },
      "source": [
        "from google.colab import drive\n",
        "drive.mount('/content/drive')"
      ],
      "execution_count": null,
      "outputs": [
        {
          "output_type": "stream",
          "text": [
            "Drive already mounted at /content/drive; to attempt to forcibly remount, call drive.mount(\"/content/drive\", force_remount=True).\n"
          ],
          "name": "stdout"
        }
      ]
    },
    {
      "cell_type": "code",
      "metadata": {
        "colab": {
          "base_uri": "https://localhost:8080/"
        },
        "id": "G4gZZajoWQlV",
        "outputId": "929f42b3-ef05-4220-9bf2-3d4e3adcd73b"
      },
      "source": [
        "%cd drive/MyDrive/"
      ],
      "execution_count": null,
      "outputs": [
        {
          "output_type": "stream",
          "text": [
            "/content/drive/MyDrive\n"
          ],
          "name": "stdout"
        }
      ]
    },
    {
      "cell_type": "code",
      "metadata": {
        "colab": {
          "base_uri": "https://localhost:8080/"
        },
        "id": "fGv7lVgsWVUy",
        "outputId": "e53fadba-55f2-4469-da00-6843964c4c27"
      },
      "source": [
        "!pip install category_encoders"
      ],
      "execution_count": null,
      "outputs": [
        {
          "output_type": "stream",
          "text": [
            "Requirement already satisfied: category_encoders in /usr/local/lib/python3.7/dist-packages (2.2.2)\n",
            "Requirement already satisfied: numpy>=1.14.0 in /usr/local/lib/python3.7/dist-packages (from category_encoders) (1.19.5)\n",
            "Requirement already satisfied: pandas>=0.21.1 in /usr/local/lib/python3.7/dist-packages (from category_encoders) (1.1.5)\n",
            "Requirement already satisfied: patsy>=0.5.1 in /usr/local/lib/python3.7/dist-packages (from category_encoders) (0.5.1)\n",
            "Requirement already satisfied: scipy>=1.0.0 in /usr/local/lib/python3.7/dist-packages (from category_encoders) (1.4.1)\n",
            "Requirement already satisfied: statsmodels>=0.9.0 in /usr/local/lib/python3.7/dist-packages (from category_encoders) (0.10.2)\n",
            "Requirement already satisfied: scikit-learn>=0.20.0 in /usr/local/lib/python3.7/dist-packages (from category_encoders) (0.22.2.post1)\n",
            "Requirement already satisfied: pytz>=2017.2 in /usr/local/lib/python3.7/dist-packages (from pandas>=0.21.1->category_encoders) (2018.9)\n",
            "Requirement already satisfied: python-dateutil>=2.7.3 in /usr/local/lib/python3.7/dist-packages (from pandas>=0.21.1->category_encoders) (2.8.1)\n",
            "Requirement already satisfied: six in /usr/local/lib/python3.7/dist-packages (from patsy>=0.5.1->category_encoders) (1.15.0)\n",
            "Requirement already satisfied: joblib>=0.11 in /usr/local/lib/python3.7/dist-packages (from scikit-learn>=0.20.0->category_encoders) (1.0.1)\n"
          ],
          "name": "stdout"
        }
      ]
    },
    {
      "cell_type": "code",
      "metadata": {
        "id": "ZSI-6h42WCg9",
        "colab": {
          "base_uri": "https://localhost:8080/"
        },
        "outputId": "8fa01359-53b3-4531-9959-d3fef1664130"
      },
      "source": [
        "import numpy as np # linear algebra\n",
        "import pandas as pd # data processing, CSV file I/O (e.g. pd.read_csv)\n",
        "import os\n",
        "# import libraries for plotting\n",
        "import matplotlib.pyplot as plt\n",
        "import seaborn as sns\n",
        "import category_encoders as ce\n",
        "from pandas_profiling import ProfileReport\n",
        "%matplotlib inline\n",
        "\n"
      ],
      "execution_count": null,
      "outputs": [
        {
          "output_type": "stream",
          "text": [
            "/usr/local/lib/python3.7/dist-packages/statsmodels/tools/_testing.py:19: FutureWarning: pandas.util.testing is deprecated. Use the functions in the public API at pandas.testing instead.\n",
            "  import pandas.util.testing as tm\n"
          ],
          "name": "stderr"
        }
      ]
    },
    {
      "cell_type": "markdown",
      "metadata": {
        "id": "59fK_7ryzEcj"
      },
      "source": [
        "### Import dataset "
      ]
    },
    {
      "cell_type": "code",
      "metadata": {
        "id": "dO39LxwOWChN"
      },
      "source": [
        "df_train = pd.read_csv('../data/train.csv')\n",
        "df_test = pd.read_csv('../data/test.csv')"
      ],
      "execution_count": null,
      "outputs": []
    },
    {
      "cell_type": "code",
      "metadata": {
        "id": "ibz48XLyWChO"
      },
      "source": [
        "X_train_transformed = df_train.drop(['RainTomorrow'], axis=1)\n",
        "y_train = df_train['RainTomorrow']\n",
        "X_test_transformed = df_test.drop(['RainTomorrow'], axis=1)\n",
        "y_test = df_test['RainTomorrow']"
      ],
      "execution_count": null,
      "outputs": []
    },
    {
      "cell_type": "markdown",
      "metadata": {
        "id": "8o9tHTAESyLb"
      },
      "source": [
        "### Declare feature vector and target variable <a class=\"anchor\" id=\"8\"></a>"
      ]
    },
    {
      "cell_type": "code",
      "metadata": {
        "id": "gKlFx1lkSyLb"
      },
      "source": [
        "X = df.drop(['RainTomorrow'], axis=1)\n",
        "y = df['RainTomorrow']\n",
        "X_drop_miss = df_drop_miss.drop(['RainTomorrow'], axis=1)\n",
        "y_drop_miss = df_drop_miss['RainTomorrow']\n",
        "X_drop_relate = df_drop_relate.drop(['RainTomorrow'], axis=1)\n",
        "y_drop_relate = df_drop_relate['RainTomorrow']"
      ],
      "execution_count": null,
      "outputs": []
    },
    {
      "cell_type": "markdown",
      "metadata": {
        "id": "vuxewrXkSyLb"
      },
      "source": [
        "### Split data into separate training and test set <a class=\"anchor\" id=\"9\"></a>"
      ]
    },
    {
      "cell_type": "code",
      "metadata": {
        "id": "YrmzsnpRSyLb"
      },
      "source": [
        "# split X and y into training and testing sets\n",
        "from sklearn.model_selection import train_test_split\n",
        "X_train_drop_miss, X_test_drop_miss, y_train_drop_miss, y_test_drop_miss = train_test_split(X_drop_miss, y_drop_miss, test_size = 0.2, random_state = 0, stratify = y_drop_miss)\n",
        "X_train_drop_relate, X_test_drop_relate, y_train_drop_relate, y_test_drop_relate = train_test_split(X_drop_relate, y_drop_relate, test_size = 0.2, random_state = 0, stratify = y_drop_relate)\n",
        "X_train_big, X_test_big, y_train_big, y_test_big = train_test_split(X, y, test_size = 0.2, random_state = 0, stratify = y)\n",
        "X_train_medium, X_test_medium, y_train_medium, y_test_medium = train_test_split(X_train_big, y_train_big, test_size=0.3, random_state =0,stratify=y_train_big)\n",
        "X_train_small, X_test_small, y_train_small, y_test_small = train_test_split(X_test_big, y_test_big, test_size=0.2, random_state =0,stratify=y_test_big)"
      ],
      "execution_count": null,
      "outputs": []
    },
    {
      "cell_type": "code",
      "metadata": {
        "colab": {
          "base_uri": "https://localhost:8080/"
        },
        "id": "FI2hza5cSyLc",
        "outputId": "d46da5e2-bb79-4d7b-ba3b-55659dc98a1e"
      },
      "source": [
        "# check the shape of X_train and X_test\n",
        "print(X_train_big.shape, X_test_big.shape)\n",
        "print(X_train_medium.shape, X_test_medium.shape)\n",
        "print(X_train_small.shape, X_test_small.shape)"
      ],
      "execution_count": null,
      "outputs": [
        {
          "output_type": "stream",
          "text": [
            "(113754, 24) (28439, 24)\n",
            "(79627, 24) (34127, 24)\n",
            "(22751, 24) (5688, 24)\n"
          ],
          "name": "stdout"
        }
      ]
    },
    {
      "cell_type": "code",
      "metadata": {
        "id": "Ezm04ZvRTW9J"
      },
      "source": [
        "def FE(X_train,X_test, y_train, y_test):\n",
        "  categorical = [col for col in X_train.columns if X_train[col].dtypes == 'O']\n",
        "  numerical = [col for col in X_train.columns if X_train[col].dtypes != 'O']\n",
        "  for df1 in [X_train, X_test]:\n",
        "    for col in numerical:\n",
        "        col_median=X_train[col].median()\n",
        "        df1[col].fillna(col_median, inplace=True)  \n",
        "  for df2 in [X_train, X_test]:\n",
        "    df2['WindGustDir'].fillna(X_train['WindGustDir'].mode()[0], inplace=True)\n",
        "    df2['WindDir9am'].fillna(X_train['WindDir9am'].mode()[0], inplace=True)\n",
        "    df2['WindDir3pm'].fillna(X_train['WindDir3pm'].mode()[0], inplace=True)\n",
        "    df2['RainToday'].fillna(X_train['RainToday'].mode()[0], inplace=True)\n",
        "  encoder = ce.BinaryEncoder(cols=['RainToday'])\n",
        "  X_train = encoder.fit_transform(X_train)\n",
        "  X_test = encoder.transform(X_test)\n",
        "  X_train = pd.concat([X_train[numerical], X_train[['RainToday_0', 'RainToday_1']],\n",
        "                     pd.get_dummies(X_train.Location), \n",
        "                     pd.get_dummies(X_train.WindGustDir),\n",
        "                     pd.get_dummies(X_train.WindDir9am),\n",
        "                     pd.get_dummies(X_train.WindDir3pm)], axis=1)\n",
        "  X_test = pd.concat([X_test[numerical], X_test[['RainToday_0', 'RainToday_1']],\n",
        "                     pd.get_dummies(X_test.Location), \n",
        "                     pd.get_dummies(X_test.WindGustDir),\n",
        "                     pd.get_dummies(X_test.WindDir9am),\n",
        "                     pd.get_dummies(X_test.WindDir3pm)], axis=1)\n",
        "  cols = X_train.columns\n",
        "  scaler = MinMaxScaler()\n",
        "  X_train = scaler.fit_transform(X_train)\n",
        "  X_test = scaler.transform(X_test)\n",
        "  X_train = pd.DataFrame(X_train, columns=[cols])\n",
        "  X_test = pd.DataFrame(X_test, columns=[cols])\n",
        "  return X_train, y_train"
      ],
      "execution_count": null,
      "outputs": []
    },
    {
      "cell_type": "code",
      "metadata": {
        "id": "aMgnyOB_HzHt",
        "colab": {
          "base_uri": "https://localhost:8080/"
        },
        "outputId": "851a9083-7fa9-4064-a514-62489e0ed9b7"
      },
      "source": [
        "%cd /content/drive/MyDrive/Rain in Australia/datasets"
      ],
      "execution_count": null,
      "outputs": [
        {
          "output_type": "stream",
          "text": [
            "/content/drive/MyDrive/Rain in Australia/datasets\n"
          ],
          "name": "stdout"
        }
      ]
    },
    {
      "cell_type": "code",
      "metadata": {
        "id": "ZQZMMqDNUX5M",
        "colab": {
          "base_uri": "https://localhost:8080/"
        },
        "outputId": "2c32bd08-1ade-4cbc-d8e4-f05a5ec014b5"
      },
      "source": [
        "x,y = FE(X_train_drop_miss, X_test_drop_miss, y_train_drop_miss, y_test_drop_miss) # tập dữ liệu drop feature nhiều missing values\n",
        "x.to_csv('X_train_drop_miss.csv')\n",
        "print(x.shape)\n",
        "y.to_csv('y_train_drop_miss.csv')\n",
        "x,y =FE(X_train_drop_relate, X_test_drop_relate, y_train_drop_relate, y_test_drop_relate) #tập dữ liệu drop feature dự đoán ảnh hưởng nhiều tới kq 'Humidity3pm'\n",
        "x.to_csv('X_train_drop_relate.csv')\n",
        "y.to_csv('y_train_drop_relate.csv')\n",
        "x,y =FE(X_train_big, X_test_big, y_train_big, y_test_big) # tập dữ liệu full size\n",
        "x.to_csv('X_train_big.csv')\n",
        "y.to_csv('y_train_big.csv')\n",
        "x,y=FE(X_train_medium, X_test_medium, y_train_medium, y_test_medium) # tập dữ liệu size medium\n",
        "x.to_csv('X_train_medium.csv')\n",
        "y.to_csv('y_train_medium.csv')\n",
        "x,y=FE(X_train_small, X_test_small, y_train_small, y_test_small) # tập dữ liệu size small\n",
        "x.to_csv('X_train_small.csv')\n",
        "y.to_csv('y_train_small.csv')"
      ],
      "execution_count": null,
      "outputs": [
        {
          "output_type": "stream",
          "text": [
            "/usr/local/lib/python3.7/dist-packages/pandas/core/series.py:4536: SettingWithCopyWarning: \n",
            "A value is trying to be set on a copy of a slice from a DataFrame\n",
            "\n",
            "See the caveats in the documentation: https://pandas.pydata.org/pandas-docs/stable/user_guide/indexing.html#returning-a-view-versus-a-copy\n",
            "  downcast=downcast,\n",
            "/usr/local/lib/python3.7/dist-packages/category_encoders/utils.py:21: FutureWarning: is_categorical is deprecated and will be removed in a future version.  Use is_categorical_dtype instead\n",
            "  elif pd.api.types.is_categorical(cols):\n"
          ],
          "name": "stderr"
        },
        {
          "output_type": "stream",
          "text": [
            "(113754, 114)\n"
          ],
          "name": "stdout"
        },
        {
          "output_type": "stream",
          "text": [
            "/usr/local/lib/python3.7/dist-packages/pandas/core/series.py:4536: SettingWithCopyWarning: \n",
            "A value is trying to be set on a copy of a slice from a DataFrame\n",
            "\n",
            "See the caveats in the documentation: https://pandas.pydata.org/pandas-docs/stable/user_guide/indexing.html#returning-a-view-versus-a-copy\n",
            "  downcast=downcast,\n",
            "/usr/local/lib/python3.7/dist-packages/category_encoders/utils.py:21: FutureWarning: is_categorical is deprecated and will be removed in a future version.  Use is_categorical_dtype instead\n",
            "  elif pd.api.types.is_categorical(cols):\n",
            "/usr/local/lib/python3.7/dist-packages/pandas/core/series.py:4536: SettingWithCopyWarning: \n",
            "A value is trying to be set on a copy of a slice from a DataFrame\n",
            "\n",
            "See the caveats in the documentation: https://pandas.pydata.org/pandas-docs/stable/user_guide/indexing.html#returning-a-view-versus-a-copy\n",
            "  downcast=downcast,\n",
            "/usr/local/lib/python3.7/dist-packages/category_encoders/utils.py:21: FutureWarning: is_categorical is deprecated and will be removed in a future version.  Use is_categorical_dtype instead\n",
            "  elif pd.api.types.is_categorical(cols):\n",
            "/usr/local/lib/python3.7/dist-packages/pandas/core/series.py:4536: SettingWithCopyWarning: \n",
            "A value is trying to be set on a copy of a slice from a DataFrame\n",
            "\n",
            "See the caveats in the documentation: https://pandas.pydata.org/pandas-docs/stable/user_guide/indexing.html#returning-a-view-versus-a-copy\n",
            "  downcast=downcast,\n",
            "/usr/local/lib/python3.7/dist-packages/category_encoders/utils.py:21: FutureWarning: is_categorical is deprecated and will be removed in a future version.  Use is_categorical_dtype instead\n",
            "  elif pd.api.types.is_categorical(cols):\n",
            "/usr/local/lib/python3.7/dist-packages/pandas/core/series.py:4536: SettingWithCopyWarning: \n",
            "A value is trying to be set on a copy of a slice from a DataFrame\n",
            "\n",
            "See the caveats in the documentation: https://pandas.pydata.org/pandas-docs/stable/user_guide/indexing.html#returning-a-view-versus-a-copy\n",
            "  downcast=downcast,\n",
            "/usr/local/lib/python3.7/dist-packages/category_encoders/utils.py:21: FutureWarning: is_categorical is deprecated and will be removed in a future version.  Use is_categorical_dtype instead\n",
            "  elif pd.api.types.is_categorical(cols):\n"
          ],
          "name": "stderr"
        }
      ]
    }
  ]
}